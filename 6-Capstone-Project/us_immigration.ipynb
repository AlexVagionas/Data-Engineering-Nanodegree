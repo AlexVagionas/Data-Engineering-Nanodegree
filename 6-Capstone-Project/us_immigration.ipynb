{
 "cells": [
  {
   "cell_type": "markdown",
   "metadata": {},
   "source": [
    "# US Immigration\n",
    "## 1. ETL Process"
   ]
  },
  {
   "cell_type": "code",
   "execution_count": 39,
   "metadata": {},
   "outputs": [],
   "source": [
    "import re\n",
    "\n",
    "from functools import reduce\n",
    "from itertools import chain\n",
    "\n",
    "from pyspark import SparkConf\n",
    "from pyspark.sql import SparkSession\n",
    "from pyspark.sql.functions import first, count, when, col, create_map, lit, coalesce, year, month"
   ]
  },
  {
   "cell_type": "code",
   "execution_count": 40,
   "metadata": {},
   "outputs": [],
   "source": [
    "spark = SparkSession \\\n",
    "    .builder \\\n",
    "    .config('spark.jars.packages', 'org.apache.hadoop:hadoop-aws:2.7.0') \\\n",
    "    .config('spark.jars.packages','saurfang:spark-sas7bdat:2.0.0-s_2.11') \\\n",
    "    .getOrCreate()"
   ]
  },
  {
   "cell_type": "markdown",
   "metadata": {},
   "source": [
    "Enter AWS credentials below and uncomment if data are to be stored in S3:"
   ]
  },
  {
   "cell_type": "code",
   "execution_count": 41,
   "metadata": {},
   "outputs": [],
   "source": [
    "# spark.sparkContext \\\n",
    "#      ._jsc \\\n",
    "#      .hadoopConfiguration().set('fs.s3a.access.key', <enter access key>)\n",
    "\n",
    "# spark.sparkContext \\\n",
    "#      ._jsc \\\n",
    "#      .hadoopConfiguration().set('fs.s3a.secret.key', <enter secret key>)\n",
    "    \n",
    "# spark.sparkContext \\\n",
    "#      ._jsc \\\n",
    "#      .hadoopConfiguration().set('fs.s3a.endpoint', 's3.amazonaws.com')\n",
    "\n",
    "# spark.sparkContext \\\n",
    "#      ._jsc \\\n",
    "#      .hadoopConfiguration().set('mapreduce.fileoutputcommitter.algorithm.version', '2')"
   ]
  },
  {
   "cell_type": "markdown",
   "metadata": {},
   "source": [
    "A function which creates a map between SAS labels and their values is defined."
   ]
  },
  {
   "cell_type": "code",
   "execution_count": 42,
   "metadata": {},
   "outputs": [],
   "source": [
    "def code_mapper(label):\n",
    "    with open('./I94_SAS_Labels_Descriptions.SAS') as f:\n",
    "        sas_labels_content = f.read()\n",
    "\n",
    "    sas_labels_content = sas_labels_content.replace('\\t', '')\n",
    "\n",
    "    label_content = sas_labels_content[sas_labels_content.index(label):]\n",
    "    label_content = label_content[:label_content.index(';')].split('\\n')\n",
    "    label_content = [i.replace(\"'\", \"\") for i in label_content]\n",
    "\n",
    "    label_dict = [i.split('=') for i in label_content[1:]]\n",
    "    label_dict = dict([i[0].strip(), i[1].strip()] for i in label_dict if len(i) == 2)\n",
    "\n",
    "    return label_dict"
   ]
  },
  {
   "cell_type": "markdown",
   "metadata": {},
   "source": [
    "Maps are created for all SAS labels."
   ]
  },
  {
   "cell_type": "code",
   "execution_count": 43,
   "metadata": {},
   "outputs": [],
   "source": [
    "i94cit_res = code_mapper('i94cntyl')\n",
    "i94port = code_mapper('i94prtl')\n",
    "i94mode = code_mapper('i94model')\n",
    "i94addr = code_mapper('i94addrl')\n",
    "i94visa = {'1.0':'Business', '2.0': 'Pleasure', '3.0' : 'Student'}"
   ]
  },
  {
   "cell_type": "markdown",
   "metadata": {},
   "source": [
    "A '.0' is added to cit and res labels to match the dataset 'i94cit' and 'i94res' columns.\n",
    "\n",
    "Also, all invalid values are grouped together as 'INVALID ENTRY'."
   ]
  },
  {
   "cell_type": "code",
   "execution_count": 44,
   "metadata": {},
   "outputs": [],
   "source": [
    "i94cit_res = {f'{k}.0': (v if not re.match('^INVALID:|^Collapsed|^No Country Code', v) else 'INVALID ENTRY') \n",
    "                 for k, v in i94cit_res.items()}"
   ]
  },
  {
   "cell_type": "markdown",
   "metadata": {},
   "source": [
    "A '.0' is added to mode labels to match the dataset 'i94mode' column."
   ]
  },
  {
   "cell_type": "code",
   "execution_count": 45,
   "metadata": {},
   "outputs": [],
   "source": [
    "i94mode = {f'{k}.0': v for k, v in i94mode.items()}"
   ]
  },
  {
   "cell_type": "markdown",
   "metadata": {},
   "source": [
    "The states in map are formatted to comply with state names in other datasets.\n",
    "- 'DIST. OF' is replaced with 'District of'\n",
    "- 'S.', 'N.', 'W.' are replaced with 'South', 'North', 'West'\n",
    "- all states are capitalized"
   ]
  },
  {
   "cell_type": "code",
   "execution_count": 46,
   "metadata": {},
   "outputs": [],
   "source": [
    "def format_state(s):\n",
    "    s = s.replace('DIST. OF', 'District of') \\\n",
    "         .replace('S.', 'South') \\\n",
    "         .replace('N.', 'North') \\\n",
    "         .replace('W.', 'West')\n",
    "    return ' '.join([w.capitalize() if w != 'of' else w for w in s.split() ])\n",
    "\n",
    "# format addr labels\n",
    "i94addr = {k: format_state(v) for k, v in i94addr.items()}"
   ]
  },
  {
   "cell_type": "markdown",
   "metadata": {},
   "source": [
    "If the port code is valid, the state is extracted and a new map, mapping codes to states is created.\n",
    "\n",
    "All invalid codes and states are marked as 'INVALID ENTRY'."
   ]
  },
  {
   "cell_type": "code",
   "execution_count": 47,
   "metadata": {},
   "outputs": [],
   "source": [
    "i94port_state = {}\n",
    "\n",
    "for k, v in i94port.items():\n",
    "    if not re.match('^Collapsed|^No PORT Code', v):\n",
    "        try:\n",
    "            # extract state part from i94port\n",
    "            # the state part contains the state and also other words\n",
    "            state_part = v.rsplit(',', 1)[1]\n",
    "            \n",
    "            # create a set of all words in state part\n",
    "            state_part_set = set(state_part.split())\n",
    "\n",
    "            # if the state is valid (is in the set(i94addr.keys()), then retrieve state\n",
    "            state = list(set(i94addr.keys()).intersection(state_part_set))[0]\n",
    "            \n",
    "            # add state to dict\n",
    "            i94port_state[k] = state\n",
    "            \n",
    "        except IndexError:\n",
    "            # no state is specified for Washington DC in labels so it is added here\n",
    "            if v == 'WASHINGTON DC':\n",
    "                i94port_state[k] = 'DC'\n",
    "            else:\n",
    "                i94port_state[k] = 'INVALID ENTRY'\n",
    "    else:\n",
    "        i94port_state[k] = 'INVALID ENTRY'"
   ]
  },
  {
   "cell_type": "markdown",
   "metadata": {},
   "source": [
    "A separate map is created for port cities."
   ]
  },
  {
   "cell_type": "code",
   "execution_count": 48,
   "metadata": {},
   "outputs": [],
   "source": [
    "i94port_city = {}\n",
    "for k, v in i94port.items():\n",
    "    if i94port_state[k] == 'INVALID ENTRY':\n",
    "        i94port_city[k] = 'INVALID ENTRY'\n",
    "    else:\n",
    "        # extract city part from i94port\n",
    "        city_part = v.rsplit(',', 1)[0]\n",
    "        \n",
    "        # add city to dict\n",
    "        i94port_city[k] = city_part"
   ]
  },
  {
   "cell_type": "markdown",
   "metadata": {},
   "source": [
    "The data for each month are read from .sas7bdat files in Spark DataFrame."
   ]
  },
  {
   "cell_type": "code",
   "execution_count": 49,
   "metadata": {},
   "outputs": [],
   "source": [
    "# read US immigration dataset\n",
    "# path = 'immigration_data_sample.csv'\n",
    "# df = spark.read.csv(path, header=True)\n",
    "\n",
    "# months = ['jan', 'feb']\n",
    "months = ['jan', 'feb', 'mar', 'apr', 'may', 'jul', 'aug', 'sep', 'oct', 'nov', 'dec']\n",
    "\n",
    "paths = [month.join(['datasets/i94_2016/i94_', '16_sub.sas7bdat']) for month in months]\n",
    "\n",
    "df = spark.read.format('com.github.saurfang.sas.spark').load(paths[0])\n",
    "for path in paths[1:]:\n",
    "    df = df.union(spark.read.format('com.github.saurfang.sas.spark').load(path))"
   ]
  },
  {
   "cell_type": "markdown",
   "metadata": {},
   "source": [
    "Columns that will not be used are dropped."
   ]
  },
  {
   "cell_type": "code",
   "execution_count": 50,
   "metadata": {},
   "outputs": [],
   "source": [
    "cols_to_drop = ['_c0', 'cicid', 'count', 'visapost', 'occup', 'entdepa', 'entdepd', 'entdepu', 'matflag', 'insnum']\n",
    "df = df.drop(*cols_to_drop)"
   ]
  },
  {
   "cell_type": "markdown",
   "metadata": {},
   "source": [
    "All invalid state codes are replaced with '99'"
   ]
  },
  {
   "cell_type": "code",
   "execution_count": 51,
   "metadata": {},
   "outputs": [],
   "source": [
    "df = df.withColumn('i94addr', when(~df['i94addr'].isin(*(i94addr.keys())), '99').otherwise(df['i94addr']))"
   ]
  },
  {
   "cell_type": "markdown",
   "metadata": {},
   "source": [
    "The maps created from SAS labels are used to replace codes in 'i94cit', 'i94res', 'i94port', 'i94mode', 'i94addr' and 'i94visa' columns with their values."
   ]
  },
  {
   "cell_type": "code",
   "execution_count": 52,
   "metadata": {},
   "outputs": [],
   "source": [
    "maps = [(i94cit_res, 'i94cit', 'i94cit'), (i94cit_res, 'i94res', 'i94res'),\n",
    "        (i94port_state, 'i94port', 'i94port_state'), (i94port_city, 'i94port', 'i94port_city'),\n",
    "        (i94mode, 'i94mode', 'i94mode'), (i94addr, 'i94addr', 'state'), (i94visa, 'i94visa', 'i94visa')]\n",
    "\n",
    "for map_dic, from_col, col_name, in maps:\n",
    "    mapping_expr = create_map([lit(x) for x in chain(*map_dic.items())])\n",
    "    df = df.withColumn(col_name, mapping_expr.getItem(col(from_col)))"
   ]
  },
  {
   "cell_type": "markdown",
   "metadata": {},
   "source": [
    "All data are cast from strings to their respective type and the following transformations take place:\n",
    "- in gender column 'M' is replaced with 'Male' and 'F' with 'Female'\n",
    "- if the transportation mode  is 'Land', 'Sea', 'Not reported' of NULL and flight number or airline is not NULL, it is supposed that transportation mode entry is wrong and should be changed to 'Air'"
   ]
  },
  {
   "cell_type": "code",
   "execution_count": 53,
   "metadata": {},
   "outputs": [],
   "source": [
    "df.createOrReplaceTempView('immigration')"
   ]
  },
  {
   "cell_type": "code",
   "execution_count": 54,
   "metadata": {},
   "outputs": [],
   "source": [
    "df = spark.sql(\"\"\"\n",
    "    SELECT CAST(i94yr AS INT) AS arrival_year,\n",
    "           CAST(i94mon AS INT) AS arrival_month,\n",
    "           DATE_ADD('1960-01-01', arrdate) AS arrival_date,\n",
    "           DATE_ADD('1960-01-01', depdate) AS departure_date,\n",
    "\n",
    "           i94port_city AS port_city,\n",
    "           i94port_state AS port_state_code,\n",
    "           \n",
    "           i94cit AS origin_country,\n",
    "           i94res AS residence_country,\n",
    "           CAST(biryear AS INT) AS birth_year,\n",
    "           CAST(i94bir AS INT) AS age,\n",
    "           CASE\n",
    "                WHEN gender = 'M' THEN 'Male'\n",
    "                WHEN gender = 'F' THEN 'Female'\n",
    "           END AS gender,\n",
    "           \n",
    "           CAST(admnum AS INT) AS admission_num,\n",
    "           TO_DATE(dtadfile, 'yyyyMMdd') AS admission_date,\n",
    "           TO_DATE(dtaddto, 'MMddyyyy') AS admitted_until,\n",
    "           i94visa visa_category,\n",
    "           visatype AS visa_type,\n",
    "           \n",
    "           state,\n",
    "           i94addr AS state_code,\n",
    "            \n",
    "           CASE\n",
    "                WHEN (i94mode = 'Land' AND ((fltno IS NOT NULL) OR (airline IS NOT NULL))) THEN 'Air'\n",
    "                WHEN (i94mode = 'Sea' AND ((fltno IS NOT NULL) OR (airline IS NOT NULL))) THEN 'Air'\n",
    "                WHEN (i94mode = 'Not reported' AND ((fltno IS NOT NULL) OR (airline IS NOT NULL))) THEN 'Air'\n",
    "                WHEN (i94mode IS NULL AND ((fltno IS NOT NULL) OR (airline IS NOT NULL))) THEN 'Air'\n",
    "                ELSE i94mode\n",
    "           END AS transportation_mode,\n",
    "           airline,\n",
    "           fltno AS flight_num\n",
    "      FROM immigration\n",
    "\"\"\")"
   ]
  },
  {
   "cell_type": "markdown",
   "metadata": {},
   "source": [
    "Remove duplicates."
   ]
  },
  {
   "cell_type": "code",
   "execution_count": 55,
   "metadata": {},
   "outputs": [],
   "source": [
    "df = df.distinct()"
   ]
  },
  {
   "cell_type": "markdown",
   "metadata": {},
   "source": [
    "Save DataFrame as .parquet in s3a://us-immigration-project or locally."
   ]
  },
  {
   "cell_type": "code",
   "execution_count": 18,
   "metadata": {},
   "outputs": [],
   "source": [
    "# write to S3 bucket\n",
    "# output_data = 's3a://us-immigration-project/'\n",
    "# df.write.parquet(os.path.join(output_data, 'us_immigration'), 'overwrite', partitionBy=['arrival_month', 'port_state_code'])\n",
    "\n",
    "# for local write\n",
    "# df.write.parquet('./output/us_immigration', 'overwrite', partitionBy=['arrival_month', 'port_state_code'])"
   ]
  },
  {
   "cell_type": "markdown",
   "metadata": {},
   "source": [
    "## 2. Dataset Info"
   ]
  },
  {
   "cell_type": "markdown",
   "metadata": {},
   "source": [
    "DataFrame Schema:"
   ]
  },
  {
   "cell_type": "code",
   "execution_count": 19,
   "metadata": {},
   "outputs": [
    {
     "name": "stdout",
     "output_type": "stream",
     "text": [
      "root\n",
      " |-- arrival_year: integer (nullable = true)\n",
      " |-- arrival_month: integer (nullable = true)\n",
      " |-- arrival_date: date (nullable = true)\n",
      " |-- departure_date: date (nullable = true)\n",
      " |-- port_city: string (nullable = true)\n",
      " |-- port_state_code: string (nullable = true)\n",
      " |-- origin_country: string (nullable = true)\n",
      " |-- residence_country: string (nullable = true)\n",
      " |-- birth_year: integer (nullable = true)\n",
      " |-- age: integer (nullable = true)\n",
      " |-- gender: string (nullable = true)\n",
      " |-- admission_num: integer (nullable = true)\n",
      " |-- admission_date: date (nullable = true)\n",
      " |-- admitted_until: date (nullable = true)\n",
      " |-- visa_category: string (nullable = true)\n",
      " |-- visa_type: string (nullable = true)\n",
      " |-- state: string (nullable = true)\n",
      " |-- state_code: string (nullable = true)\n",
      " |-- transportation_mode: string (nullable = true)\n",
      " |-- airline: string (nullable = true)\n",
      " |-- flight_num: string (nullable = true)\n",
      "\n"
     ]
    }
   ],
   "source": [
    "df.printSchema()"
   ]
  },
  {
   "cell_type": "markdown",
   "metadata": {},
   "source": [
    "Sample DataFrame records:"
   ]
  },
  {
   "cell_type": "code",
   "execution_count": 20,
   "metadata": {},
   "outputs": [
    {
     "name": "stdout",
     "output_type": "stream",
     "text": [
      "-RECORD 0------------------------------------------------------------------------\n",
      " arrival_year        | 2016                                                      \n",
      " arrival_month       | 1                                                         \n",
      " arrival_date        | 2016-01-08                                                \n",
      " departure_date      | null                                                      \n",
      " port_city           | TUCSON                                                    \n",
      " port_state_code     | AZ                                                        \n",
      " origin_country      | null                                                      \n",
      " residence_country   | SOUTH KOREA                                               \n",
      " birth_year          | 1989                                                      \n",
      " age                 | 27                                                        \n",
      " gender              | Female                                                    \n",
      " admission_num       | 318287985                                                 \n",
      " admission_date      | null                                                      \n",
      " admitted_until      | null                                                      \n",
      " visa_category       | Student                                                   \n",
      " visa_type           | F1                                                        \n",
      " state               | null                                                      \n",
      " state_code          | null                                                      \n",
      " transportation_mode | Air                                                       \n",
      " airline             | DL                                                        \n",
      " flight_num          | 158                                                       \n",
      "-RECORD 1------------------------------------------------------------------------\n",
      " arrival_year        | 2016                                                      \n",
      " arrival_month       | 1                                                         \n",
      " arrival_date        | 2016-01-02                                                \n",
      " departure_date      | 2016-01-13                                                \n",
      " port_city           | PHOENIX                                                   \n",
      " port_state_code     | AZ                                                        \n",
      " origin_country      | MEXICO Air Sea, and Not Reported (I-94, no land arrivals) \n",
      " residence_country   | MEXICO Air Sea, and Not Reported (I-94, no land arrivals) \n",
      " birth_year          | 1965                                                      \n",
      " age                 | 51                                                        \n",
      " gender              | Female                                                    \n",
      " admission_num       | 2147483647                                                \n",
      " admission_date      | 2016-01-02                                                \n",
      " admitted_until      | 2016-07-01                                                \n",
      " visa_category       | Pleasure                                                  \n",
      " visa_type           | B2                                                        \n",
      " state               | null                                                      \n",
      " state_code          | null                                                      \n",
      " transportation_mode | Air                                                       \n",
      " airline             | WS                                                        \n",
      " flight_num          | 01770                                                     \n",
      "only showing top 2 rows\n",
      "\n"
     ]
    }
   ],
   "source": [
    "df.show(n=2, truncate=False, vertical=True)"
   ]
  },
  {
   "cell_type": "markdown",
   "metadata": {},
   "source": [
    "DataFrame rows and columns:"
   ]
  },
  {
   "cell_type": "code",
   "execution_count": 21,
   "metadata": {},
   "outputs": [
    {
     "name": "stdout",
     "output_type": "stream",
     "text": [
      "rows: 35058752 columns: 21\n"
     ]
    }
   ],
   "source": [
    "print('rows: {}'.format(df.count()), 'columns: {}'.format(len(df.columns)))"
   ]
  },
  {
   "cell_type": "markdown",
   "metadata": {},
   "source": [
    "## 3. Data Quality Checks"
   ]
  },
  {
   "cell_type": "markdown",
   "metadata": {},
   "source": [
    "Check for nulls in each column:"
   ]
  },
  {
   "cell_type": "code",
   "execution_count": 22,
   "metadata": {},
   "outputs": [
    {
     "name": "stdout",
     "output_type": "stream",
     "text": [
      "-RECORD 0----------------------\n",
      " arrival_year        | 0       \n",
      " arrival_month       | 0       \n",
      " arrival_date        | 0       \n",
      " departure_date      | 2806865 \n",
      " port_city           | 1       \n",
      " port_state_code     | 1       \n",
      " origin_country      | 4169024 \n",
      " residence_country   | 0       \n",
      " birth_year          | 7616    \n",
      " age                 | 7616    \n",
      " gender              | 3357601 \n",
      " admission_num       | 0       \n",
      " admission_date      | 131015  \n",
      " admitted_until      | 1464128 \n",
      " visa_category       | 0       \n",
      " visa_type           | 0       \n",
      " state               | 2064975 \n",
      " state_code          | 1708388 \n",
      " transportation_mode | 12603   \n",
      " airline             | 1092315 \n",
      " flight_num          | 239614  \n",
      "\n"
     ]
    }
   ],
   "source": [
    "df.select([count(when(col(c).isNull(), c)).alias(c) for c in df.columns]).show(truncate=False, vertical=True)"
   ]
  },
  {
   "cell_type": "markdown",
   "metadata": {},
   "source": [
    "Check if admission numbers are unique:"
   ]
  },
  {
   "cell_type": "code",
   "execution_count": 23,
   "metadata": {},
   "outputs": [
    {
     "data": {
      "text/plain": [
       "35058752"
      ]
     },
     "execution_count": 23,
     "metadata": {},
     "output_type": "execute_result"
    }
   ],
   "source": [
    "df.distinct().count()"
   ]
  },
  {
   "cell_type": "code",
   "execution_count": 24,
   "metadata": {},
   "outputs": [
    {
     "data": {
      "text/plain": [
       "34457281"
      ]
     },
     "execution_count": 24,
     "metadata": {},
     "output_type": "execute_result"
    }
   ],
   "source": [
    "df.count() - df.select('admission_num').distinct().count()"
   ]
  },
  {
   "cell_type": "code",
   "execution_count": 25,
   "metadata": {},
   "outputs": [
    {
     "data": {
      "text/plain": [
       "601471"
      ]
     },
     "execution_count": 25,
     "metadata": {},
     "output_type": "execute_result"
    }
   ],
   "source": [
    "df.select('admission_num').distinct().count()"
   ]
  },
  {
   "cell_type": "markdown",
   "metadata": {},
   "source": [
    "It turns out that they are not. Most of them are reused."
   ]
  },
  {
   "cell_type": "markdown",
   "metadata": {},
   "source": [
    "Display the record where the port city and state are NULL:"
   ]
  },
  {
   "cell_type": "code",
   "execution_count": 26,
   "metadata": {},
   "outputs": [
    {
     "name": "stdout",
     "output_type": "stream",
     "text": [
      "-RECORD 0-------------------------\n",
      " arrival_year        | 2016       \n",
      " arrival_month       | 8          \n",
      " arrival_date        | 2016-08-16 \n",
      " departure_date      | null       \n",
      " port_city           | null       \n",
      " port_state_code     | null       \n",
      " origin_country      | ITALY      \n",
      " residence_country   | ITALY      \n",
      " birth_year          | 1966       \n",
      " age                 | 50         \n",
      " gender              | Male       \n",
      " admission_num       | 2147483647 \n",
      " admission_date      | 2016-08-16 \n",
      " admitted_until      | 2016-11-13 \n",
      " visa_category       | Pleasure   \n",
      " visa_type           | WT         \n",
      " state               | New York   \n",
      " state_code          | NY         \n",
      " transportation_mode | Land       \n",
      " airline             | null       \n",
      " flight_num          | null       \n",
      "\n"
     ]
    }
   ],
   "source": [
    "df.filter(reduce(lambda x, y: x & y, (col(c).isNull() for c in ['port_city', 'port_state_code']))).show(truncate=False, vertical=True)"
   ]
  },
  {
   "cell_type": "markdown",
   "metadata": {},
   "source": [
    "This is still a valid record despite the missing port city and state so it is not discarded."
   ]
  },
  {
   "cell_type": "markdown",
   "metadata": {},
   "source": [
    "Check if records with transportation mode 'Land' or 'Sea' also have flight number or airline:"
   ]
  },
  {
   "cell_type": "code",
   "execution_count": 27,
   "metadata": {},
   "outputs": [
    {
     "data": {
      "text/plain": [
       "153540"
      ]
     },
     "execution_count": 27,
     "metadata": {},
     "output_type": "execute_result"
    }
   ],
   "source": [
    "df.filter(df.transportation_mode.isin('Land', 'Sea')).count()"
   ]
  },
  {
   "cell_type": "code",
   "execution_count": 28,
   "metadata": {},
   "outputs": [
    {
     "data": {
      "text/plain": [
       "0"
      ]
     },
     "execution_count": 28,
     "metadata": {},
     "output_type": "execute_result"
    }
   ],
   "source": [
    "df.filter((df.transportation_mode.isin('Land', 'Sea')) & ((df.flight_num.isNotNull()) | (df.airline.isNotNull()))).count()"
   ]
  },
  {
   "cell_type": "markdown",
   "metadata": {},
   "source": [
    "Check if records with transportation mode 'Not reported' or NULL also have flight number or airline:"
   ]
  },
  {
   "cell_type": "code",
   "execution_count": 29,
   "metadata": {},
   "outputs": [
    {
     "data": {
      "text/plain": [
       "56771"
      ]
     },
     "execution_count": 29,
     "metadata": {},
     "output_type": "execute_result"
    }
   ],
   "source": [
    "df.filter(df.transportation_mode == 'Not reported').count()"
   ]
  },
  {
   "cell_type": "code",
   "execution_count": 30,
   "metadata": {},
   "outputs": [
    {
     "data": {
      "text/plain": [
       "0"
      ]
     },
     "execution_count": 30,
     "metadata": {},
     "output_type": "execute_result"
    }
   ],
   "source": [
    "df.filter(((df.transportation_mode == 'Not reported') | (df.transportation_mode.isNull())) & ((df.flight_num.isNotNull()) | (df.airline.isNotNull()))).count()"
   ]
  },
  {
   "cell_type": "markdown",
   "metadata": {},
   "source": [
    "Check if the year of arrival is different than '2016':"
   ]
  },
  {
   "cell_type": "code",
   "execution_count": 31,
   "metadata": {},
   "outputs": [
    {
     "data": {
      "text/plain": [
       "0"
      ]
     },
     "execution_count": 31,
     "metadata": {},
     "output_type": "execute_result"
    }
   ],
   "source": [
    "df.filter(df.arrival_year != 2016).count()"
   ]
  },
  {
   "cell_type": "markdown",
   "metadata": {},
   "source": [
    "Check if a month is not valid:"
   ]
  },
  {
   "cell_type": "code",
   "execution_count": 32,
   "metadata": {},
   "outputs": [
    {
     "data": {
      "text/plain": [
       "0"
      ]
     },
     "execution_count": 32,
     "metadata": {},
     "output_type": "execute_result"
    }
   ],
   "source": [
    "df.filter((df.arrival_month <= 1) & (df.arrival_month >= 12)).count()"
   ]
  },
  {
   "cell_type": "markdown",
   "metadata": {},
   "source": [
    "Check that the arrival date and year, month columns match:"
   ]
  },
  {
   "cell_type": "code",
   "execution_count": 33,
   "metadata": {},
   "outputs": [
    {
     "data": {
      "text/plain": [
       "0"
      ]
     },
     "execution_count": 33,
     "metadata": {},
     "output_type": "execute_result"
    }
   ],
   "source": [
    "df.filter(df.arrival_year != year(df.arrival_date)).count()"
   ]
  },
  {
   "cell_type": "code",
   "execution_count": 34,
   "metadata": {},
   "outputs": [
    {
     "data": {
      "text/plain": [
       "0"
      ]
     },
     "execution_count": 34,
     "metadata": {},
     "output_type": "execute_result"
    }
   ],
   "source": [
    "df.filter(df.arrival_month != month(df.arrival_date)).count()"
   ]
  },
  {
   "cell_type": "markdown",
   "metadata": {},
   "source": [
    "## 4. Foreign Keys & Columns Related to Other Datasets"
   ]
  },
  {
   "cell_type": "markdown",
   "metadata": {},
   "source": [
    "Total port cities in DataFrame:"
   ]
  },
  {
   "cell_type": "code",
   "execution_count": 35,
   "metadata": {},
   "outputs": [
    {
     "data": {
      "text/plain": [
       "341"
      ]
     },
     "execution_count": 35,
     "metadata": {},
     "output_type": "execute_result"
    }
   ],
   "source": [
    "df.select('port_city', 'port_state_code').distinct().orderBy('port_state_code').count()"
   ]
  },
  {
   "cell_type": "markdown",
   "metadata": {},
   "source": [
    "Display all port cities and the state they belong:"
   ]
  },
  {
   "cell_type": "code",
   "execution_count": 36,
   "metadata": {},
   "outputs": [
    {
     "name": "stdout",
     "output_type": "stream",
     "text": [
      "+----------------------------+---------------+\n",
      "|port_city                   |port_state_code|\n",
      "+----------------------------+---------------+\n",
      "|null                        |null           |\n",
      "|ANCHORAGE                   |AK             |\n",
      "|KETCHIKAN                   |AK             |\n",
      "|JUNEAU                      |AK             |\n",
      "|FAIRBANKS                   |AK             |\n",
      "|TOKEEN                      |AK             |\n",
      "|SKAGWAY                     |AK             |\n",
      "|POKER CREEK                 |AK             |\n",
      "|ALCAN                       |AK             |\n",
      "|HOMER                       |AK             |\n",
      "|DALTONS CACHE               |AK             |\n",
      "|BIRMINGHAM                  |AL             |\n",
      "|MADISON COUNTY - HUNTSVILLE |AL             |\n",
      "|MOBILE                      |AL             |\n",
      "|ROGERS ARPT                 |AR             |\n",
      "|LUKEVILLE                   |AZ             |\n",
      "|TUCSON                      |AZ             |\n",
      "|NACO                        |AZ             |\n",
      "|PORTAL                      |AZ             |\n",
      "|DOUGLAS                     |AZ             |\n",
      "|SASABE                      |AZ             |\n",
      "|YUMA                        |AZ             |\n",
      "|PHOENIX                     |AZ             |\n",
      "|NOGALES                     |AZ             |\n",
      "|SAN LUIS                    |AZ             |\n",
      "|OTAY MESA                   |CA             |\n",
      "|ONTARIO                     |CA             |\n",
      "|SAN PEDRO                   |CA             |\n",
      "|FRESNO                      |CA             |\n",
      "|SAN JOSE                    |CA             |\n",
      "|SAN FRANCISCO               |CA             |\n",
      "|RIVERSIDE                   |CA             |\n",
      "|LOS ANGELES                 |CA             |\n",
      "|ANDRADE                     |CA             |\n",
      "|VAN NUYS                    |CA             |\n",
      "|LONG BEACH                  |CA             |\n",
      "|TECATE                      |CA             |\n",
      "|SAN YSIDRO                  |CA             |\n",
      "|SANTA ANA                   |CA             |\n",
      "|CALEXICO                    |CA             |\n",
      "|SACRAMENTO                  |CA             |\n",
      "|OAKLAND                     |CA             |\n",
      "|SAN DIEGO                   |CA             |\n",
      "|PALM SPRINGS                |CA             |\n",
      "|ARAPAHOE COUNTY             |CO             |\n",
      "|DENVER                      |CO             |\n",
      "|NEWINGTON DATA CENTER TEST  |CT             |\n",
      "|NEW HAVEN                   |CT             |\n",
      "|BRADLEY INTERNATIONAL       |CT             |\n",
      "|HARTFORD                    |CT             |\n",
      "|WASHINGTON DC               |DC             |\n",
      "|WILMINGTON                  |DE             |\n",
      "|DOVER AFB                   |DE             |\n",
      "|NAPLES                      |FL             |\n",
      "|PORT EVERGLADES             |FL             |\n",
      "|PANAMA CITY                 |FL             |\n",
      "|TAMPA                       |FL             |\n",
      "|FORT PIERCE                 |FL             |\n",
      "|MIAMI                       |FL             |\n",
      "|PORT CANAVERAL              |FL             |\n",
      "|BOCAGRANDE                  |FL             |\n",
      "|BRADENTON - SARASOTA        |FL             |\n",
      "|LEESBURG MUNICIPAL AIRPORT  |FL             |\n",
      "|OPA LOCKA                   |FL             |\n",
      "|FORT MYERS                  |FL             |\n",
      "|ST PETERSBURG               |FL             |\n",
      "|DAYTONA BEACH INTERNATIONAL |FL             |\n",
      "|KEY WEST                    |FL             |\n",
      "|WEST PALM BEACH             |FL             |\n",
      "|MELBOURNE                   |FL             |\n",
      "|ST AUGUSTINE ARPT           |FL             |\n",
      "|JACKSONVILLE                |FL             |\n",
      "|ORLANDO                     |FL             |\n",
      "|PENSACOLA                   |FL             |\n",
      "|ST AUGUSTINE                |FL             |\n",
      "|SANFORD                     |FL             |\n",
      "|ST LUCIE COUNTY             |FL             |\n",
      "|FORT LAUDERDALE             |FL             |\n",
      "|ATLANTA                     |GA             |\n",
      "|SAVANNAH                    |GA             |\n",
      "|AGANA                       |GU             |\n",
      "|KEAHOLE-KONA                |HI             |\n",
      "|LIHUE                       |HI             |\n",
      "|HONOLULU                    |HI             |\n",
      "|KAHULUI - MAUI              |HI             |\n",
      "|DES MOINES                  |IA             |\n",
      "|PORTHILL                    |ID             |\n",
      "|EASTPORT                    |ID             |\n",
      "|MEMORIAL - WAUKEGAN         |IL             |\n",
      "|DUPAGE COUNTY               |IL             |\n",
      "|GREATER ROCKFORD            |IL             |\n",
      "|CHICAGO                     |IL             |\n",
      "|INDIANAPOLIS                |IN             |\n",
      "|INVALID ENTRY               |INVALID ENTRY  |\n",
      "|MID-CONTINENT - WITCHITA    |KS             |\n",
      "|LOUISVILLE                  |KY             |\n",
      "|BLUE GRASS - LEXINGTON      |KY             |\n",
      "|NEW ORLEANS                 |LA             |\n",
      "|BATON ROUGE                 |LA             |\n",
      "|HANSCOM FIELD - BEDFORD     |MA             |\n",
      "|BOSTON                      |MA             |\n",
      "|BALTIMORE                   |MD             |\n",
      "|ANDREWS AFB                 |MD             |\n",
      "|BRIDGEWATER                 |ME             |\n",
      "|ST PAMPILE                  |ME             |\n",
      "|PORTLAND                    |ME             |\n",
      "|LIMESTONE                   |ME             |\n",
      "|MADAWASKA                   |ME             |\n",
      "|COBURN GORE                 |ME             |\n",
      "|VAN BUREN                   |ME             |\n",
      "|HOULTON                     |ME             |\n",
      "|VANCEBORO                   |ME             |\n",
      "|JACKMAN                     |ME             |\n",
      "|LUBEC                       |ME             |\n",
      "|BANGOR                      |ME             |\n",
      "|CALAIS                      |ME             |\n",
      "|HAMIIN                      |ME             |\n",
      "|RANGELEY                    |ME             |\n",
      "|FORT KENT                   |ME             |\n",
      "|FORT FAIRFIELD              |ME             |\n",
      "|SAULT STE. MARIE            |MI             |\n",
      "|SAGINAW                     |MI             |\n",
      "|PORT HURON                  |MI             |\n",
      "|GRAND RAPIDS                |MI             |\n",
      "|WILLOW RUN - YPSILANTI      |MI             |\n",
      "|MARINE CITY                 |MI             |\n",
      "|OAKLAND COUNTY - PONTIAC    |MI             |\n",
      "|DETROIT                     |MI             |\n",
      "|ALGONAC                     |MI             |\n",
      "|ST PAUL                     |MN             |\n",
      "|DULUTH                      |MN             |\n",
      "|PINE CREEK                  |MN             |\n",
      "|ROSEAU                      |MN             |\n",
      "|INTL FALLS                  |MN             |\n",
      "|CRANE LAKE                  |MN             |\n",
      "|GRAND PORTAGE               |MN             |\n",
      "|LANCASTER                   |MN             |\n",
      "|WARROAD                     |MN             |\n",
      "|PINECREEK BORDER ARPT       |MN             |\n",
      "|ROCHESTER                   |MN             |\n",
      "|BAUDETTE                    |MN             |\n",
      "|ST LOUIS                    |MO             |\n",
      "|KANSAS CITY                 |MO             |\n",
      "|PASCAGOULA                  |MS             |\n",
      "|GULFPORT                    |MS             |\n",
      "|BILOXI REGIONAL             |MS             |\n",
      "|MORGAN                      |MT             |\n",
      "|CUT BANK MUNICIPAL          |MT             |\n",
      "|HAVRE                       |MT             |\n",
      "|GLACIER NATIONAL PARK       |MT             |\n",
      "|WILD HORSE                  |MT             |\n",
      "|CHIEF MT                    |MT             |\n",
      "|SWEETGTASS                  |MT             |\n",
      "|ROOSVILLE                   |MT             |\n",
      "|PIEGAN                      |MT             |\n",
      "|DEL BONITA                  |MT             |\n",
      "|SCOBEY                      |MT             |\n",
      "|RAYMOND                     |MT             |\n",
      "|GALLATIN FIELD - BOZEMAN    |MT             |\n",
      "|WILLOW CREEK                |MT             |\n",
      "|TURNER                      |MT             |\n",
      "|LEWISTON                    |MT             |\n",
      "|HELENA                      |MT             |\n",
      "|RALEIGH/DURHAM              |NC             |\n",
      "|CHARLOTTE                   |NC             |\n",
      "|WILMINGTON                  |NC             |\n",
      "|MAIDA                       |ND             |\n",
      "|NECHE                       |ND             |\n",
      "|FORTUNA                     |ND             |\n",
      "|PEMBINA                     |ND             |\n",
      "|GRAND FORKS                 |ND             |\n",
      "|CARBURY                     |ND             |\n",
      "|SHERWOOD                    |ND             |\n",
      "|MINOT                       |ND             |\n",
      "|ANTLER                      |ND             |\n",
      "|DUNSEITH                    |ND             |\n",
      "|ST JOHN                     |ND             |\n",
      "|HANSBORO                    |ND             |\n",
      "|FARGO                       |ND             |\n",
      "|WALHALLA                    |ND             |\n",
      "|WESTHOPE                    |ND             |\n",
      "|NOONAN                      |ND             |\n",
      "|SARLES                      |ND             |\n",
      "|NORTHGATE                   |ND             |\n",
      "|HANNAH                      |ND             |\n",
      "|OMAHA                       |NE             |\n",
      "|PITTSBURG                   |NH             |\n",
      "|MANCHESTER                  |NH             |\n",
      "|PORTSMOUTH                  |NH             |\n",
      "|MORRISTOWN                  |NJ             |\n",
      "|NEWARK/TETERBORO            |NJ             |\n",
      "|MC GUIRE AFB - WRIGHTSOWN   |NJ             |\n",
      "|PERTH AMBOY                 |NJ             |\n",
      "|ANTELOPE WELLS              |NM             |\n",
      "|SANTA TERESA                |NM             |\n",
      "|COLUMBUS                    |NM             |\n",
      "|ALBUQUERQUE                 |NM             |\n",
      "|LAS VEGAS                   |NV             |\n",
      "|RENO                        |NV             |\n",
      "|CANNON INTL - RENO/TAHOE    |NV             |\n",
      "|NEW YORK                    |NY             |\n",
      "|BUFFALO                     |NY             |\n",
      "|OGDENSBURG                  |NY             |\n",
      "|ROUSES POINT                |NY             |\n",
      "|ROME                        |NY             |\n",
      "|CHATEAUGAY                  |NY             |\n",
      "|FORT COVINGTON              |NY             |\n",
      "|SYRACUSE                    |NY             |\n",
      "|STEWART - ORANGE CNTY       |NY             |\n",
      "|SUFFOLK COUNTY              |NY             |\n",
      "|MASSENA                     |NY             |\n",
      "|TROUT RIVER                 |NY             |\n",
      "|CANNON CORNERS              |NY             |\n",
      "|CHAMPLAIN                   |NY             |\n",
      "|ALBANY                      |NY             |\n",
      "|NIAGARA FALLS               |NY             |\n",
      "|WESTCHESTER - WHITE PLAINS  |NY             |\n",
      "|MOORES                      |NY             |\n",
      "|ALEXANDRIA BAY              |NY             |\n",
      "|PEACE BRIDGE                |NY             |\n",
      "|ROCHESTER                   |NY             |\n",
      "|LEWISTON                    |NY             |\n",
      "|WHIRLPOOL BRIDGE            |NY             |\n",
      "|THOUSAND ISLAND BRIDGE      |NY             |\n",
      "|AKRON                       |OH             |\n",
      "|TOLEDO                      |OH             |\n",
      "|CLEVELAND                   |OH             |\n",
      "|SANDUSKY                    |OH             |\n",
      "|COLUMBUS                    |OH             |\n",
      "|CINCINNATI                  |OH             |\n",
      "|OKLAHOMA CITY               |OK             |\n",
      "|HILLSBORO                   |OR             |\n",
      "|PORTLAND                    |OR             |\n",
      "|COOS BAY                    |OR             |\n",
      "|PITTSBURG                   |PA             |\n",
      "|HARRISBURG                  |PA             |\n",
      "|ERIE                        |PA             |\n",
      "|PHILADELPHIA                |PA             |\n",
      "|PONCE                       |PR             |\n",
      "|AGUADILLA                   |PR             |\n",
      "|FAJARDO                     |PR             |\n",
      "|MAYAGUEZ                    |PR             |\n",
      "|SAN JUAN                    |PR             |\n",
      "|BORINQUEN - AGUADILLO       |PR             |\n",
      "|PONCE-MERCEDITA             |PR             |\n",
      "|VIEQUES-ARPT                |PR             |\n",
      "|PROVIDENCE                  |RI             |\n",
      "|THEODORE FRANCIS - WARWICK  |RI             |\n",
      "|GREENVILLE                  |SC             |\n",
      "|GREER                       |SC             |\n",
      "|MYRTLE BEACH                |SC             |\n",
      "|CHARLESTON                  |SC             |\n",
      "|COLUMBIA                    |SC             |\n",
      "|MEMPHIS                     |TN             |\n",
      "|NASHVILLE                   |TN             |\n",
      "|PRESIDIO                    |TX             |\n",
      "|PASO DEL NORTE              |TX             |\n",
      "|LAREDO COLUMBIA BRIDGE      |TX             |\n",
      "|PROGRESO                    |TX             |\n",
      "|LAREDO                      |TX             |\n",
      "|HULL FIELD, SUGAR LAND ARPT |TX             |\n",
      "|ADDISON AIRPORT- ADDISON    |TX             |\n",
      "|FORT WORTH ALLIANCE         |TX             |\n",
      "|FREEPORT                    |TX             |\n",
      "|PHARR                       |TX             |\n",
      "|HARLINGEN                   |TX             |\n",
      "|GALVESTON                   |TX             |\n",
      "|BROWNSVILLE                 |TX             |\n",
      "|HOUSTON                     |TX             |\n",
      "|FABENS                      |TX             |\n",
      "|PORT ARTHUR                 |TX             |\n",
      "|MCALLEN                     |TX             |\n",
      "|AMISTAD DAM                 |TX             |\n",
      "|LOS EBANOS                  |TX             |\n",
      "|EAGLE PASS                  |TX             |\n",
      "|ODESSA REGIONAL             |TX             |\n",
      "|BRIDGE OF AMERICAS          |TX             |\n",
      "|FORT HANCOCK                |TX             |\n",
      "|CORPUS CHRISTI              |TX             |\n",
      "|AUSTIN                      |TX             |\n",
      "|EL PASO                     |TX             |\n",
      "|JUAREZ-LINCOLN BRIDGE       |TX             |\n",
      "|VETERAN INTL BRIDGE         |TX             |\n",
      "|SAN ANTONIO                 |TX             |\n",
      "|DONNA                       |TX             |\n",
      "|ANZALDUAS                   |TX             |\n",
      "|YSLETA                      |TX             |\n",
      "|RIO GRANDE CITY             |TX             |\n",
      "|SANDERSON                   |TX             |\n",
      "|LOS INDIOS                  |TX             |\n",
      "|HIDALGO                     |TX             |\n",
      "|ROMA                        |TX             |\n",
      "|DEL RIO                     |TX             |\n",
      "|FALCON HEIGHTS              |TX             |\n",
      "|DALLAS                      |TX             |\n",
      "|SALT LAKE CITY              |UT             |\n",
      "|NORFOLK                     |VA             |\n",
      "|RICHMOND                    |VA             |\n",
      "|MANASSAS                    |VA             |\n",
      "|ST THOMAS                   |VI             |\n",
      "|CHARLOTTE AMALIE            |VI             |\n",
      "|CHRISTIANSTED               |VI             |\n",
      "|ALBURG SPRINGS              |VT             |\n",
      "|EAST RICHFORD               |VT             |\n",
      "|BEEBE PLAIN                 |VT             |\n",
      "|RICHFORT                    |VT             |\n",
      "|DERBY LINE                  |VT             |\n",
      "|NORTH TROY                  |VT             |\n",
      "|NORTON                      |VT             |\n",
      "|CANAAN                      |VT             |\n",
      "|WEST BERKSHIRE              |VT             |\n",
      "|BURLINGTON                  |VT             |\n",
      "|HIGHGATE SPRINGS            |VT             |\n",
      "|ALBURG                      |VT             |\n",
      "|BEECHER FALLS               |VT             |\n",
      "|MORSES LINE                 |VT             |\n",
      "|BELLINGHAM                  |WA             |\n",
      "|METALINE FALLS              |WA             |\n",
      "|MOSES LAKE GRANT COUNTY ARPT|WA             |\n",
      "|FRIDAY HARBOR               |WA             |\n",
      "|SUMAS                       |WA             |\n",
      "|LONGVIEW                    |WA             |\n",
      "|POINT ROBERTS               |WA             |\n",
      "|SEATTLE                     |WA             |\n",
      "|ANACORTES                   |WA             |\n",
      "|ABERDEEN                    |WA             |\n",
      "|DANVILLE                    |WA             |\n",
      "|FRONTIER                    |WA             |\n",
      "|OROVILLE                    |WA             |\n",
      "|LYNDEN                      |WA             |\n",
      "|BOUNDARY                    |WA             |\n",
      "|FERRY                       |WA             |\n",
      "|LAURIER                     |WA             |\n",
      "|SPOKANE                     |WA             |\n",
      "|NIGHTHAWK                   |WA             |\n",
      "|BLAINE                      |WA             |\n",
      "|PORT ANGELES                |WA             |\n",
      "|ALGOMA                      |WI             |\n",
      "|GREEN BAY                   |WI             |\n",
      "|MILWAUKEE                   |WI             |\n",
      "|CHARLESTON                  |WV             |\n",
      "+----------------------------+---------------+\n",
      "\n"
     ]
    }
   ],
   "source": [
    "df.select('port_city', 'port_state_code').distinct().orderBy('port_state_code').show(341, truncate=False)"
   ]
  },
  {
   "cell_type": "markdown",
   "metadata": {},
   "source": [
    "Total states in DataFrame:"
   ]
  },
  {
   "cell_type": "code",
   "execution_count": 56,
   "metadata": {},
   "outputs": [
    {
     "data": {
      "text/plain": [
       "56"
      ]
     },
     "execution_count": 56,
     "metadata": {},
     "output_type": "execute_result"
    }
   ],
   "source": [
    "df.select('state', 'state_code').distinct().orderBy('state').count()"
   ]
  },
  {
   "cell_type": "markdown",
   "metadata": {},
   "source": [
    "Display all states and state codes:"
   ]
  },
  {
   "cell_type": "code",
   "execution_count": 57,
   "metadata": {},
   "outputs": [
    {
     "name": "stdout",
     "output_type": "stream",
     "text": [
      "+--------------------+----------+\n",
      "|state               |state_code|\n",
      "+--------------------+----------+\n",
      "|null                |null      |\n",
      "|Alabama             |AL        |\n",
      "|Alaska              |AK        |\n",
      "|All Other Codes     |99        |\n",
      "|Arizona             |AZ        |\n",
      "|Arkansas            |AR        |\n",
      "|California          |CA        |\n",
      "|Colorado            |CO        |\n",
      "|Connecticut         |CT        |\n",
      "|Delaware            |DE        |\n",
      "|District of Columbia|DC        |\n",
      "|Florida             |FL        |\n",
      "|Georgia             |GA        |\n",
      "|Guam                |GU        |\n",
      "|Hawaii              |HI        |\n",
      "|Idaho               |ID        |\n",
      "|Illinois            |IL        |\n",
      "|Indiana             |IN        |\n",
      "|Iowa                |IA        |\n",
      "|Kansas              |KS        |\n",
      "|Kentucky            |KY        |\n",
      "|Louisiana           |LA        |\n",
      "|Maine               |ME        |\n",
      "|Maryland            |MD        |\n",
      "|Massachusetts       |MA        |\n",
      "|Michigan            |MI        |\n",
      "|Minnesota           |MN        |\n",
      "|Mississippi         |MS        |\n",
      "|Missouri            |MO        |\n",
      "|Montana             |MT        |\n",
      "|Nebraska            |NE        |\n",
      "|Nevada              |NV        |\n",
      "|New Hampshire       |NH        |\n",
      "|New Jersey          |NJ        |\n",
      "|New Mexico          |NM        |\n",
      "|New York            |NY        |\n",
      "|North Carolina      |NC        |\n",
      "|North Dakota        |ND        |\n",
      "|Ohio                |OH        |\n",
      "|Oklahoma            |OK        |\n",
      "|Oregon              |OR        |\n",
      "|Pennsylvania        |PA        |\n",
      "|Puerto Rico         |PR        |\n",
      "|Rhode Island        |RI        |\n",
      "|South Carolina      |SC        |\n",
      "|South Dakota        |SD        |\n",
      "|Tennessee           |TN        |\n",
      "|Texas               |TX        |\n",
      "|Utah                |UT        |\n",
      "|Vermont             |VT        |\n",
      "|Virgin Islands      |VI        |\n",
      "|Virginia            |VA        |\n",
      "|Washington          |WA        |\n",
      "|West Virginia       |WV        |\n",
      "|Wisconson           |WI        |\n",
      "|Wyoming             |WY        |\n",
      "+--------------------+----------+\n",
      "\n"
     ]
    }
   ],
   "source": [
    "df.select('state', 'state_code').distinct().orderBy('state').show(56, truncate=False)"
   ]
  },
  {
   "cell_type": "code",
   "execution_count": null,
   "metadata": {},
   "outputs": [],
   "source": []
  }
 ],
 "metadata": {
  "kernelspec": {
   "display_name": "Python 3",
   "language": "python",
   "name": "python3"
  },
  "language_info": {
   "codemirror_mode": {
    "name": "ipython",
    "version": 3
   },
   "file_extension": ".py",
   "mimetype": "text/x-python",
   "name": "python",
   "nbconvert_exporter": "python",
   "pygments_lexer": "ipython3",
   "version": "3.7.7"
  }
 },
 "nbformat": 4,
 "nbformat_minor": 4
}
