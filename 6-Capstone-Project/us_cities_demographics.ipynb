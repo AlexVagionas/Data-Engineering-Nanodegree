{
 "cells": [
  {
   "cell_type": "markdown",
   "metadata": {},
   "source": [
    "# US Cities Demographics\n",
    "## 1. ETL Process"
   ]
  },
  {
   "cell_type": "code",
   "execution_count": 1,
   "metadata": {},
   "outputs": [],
   "source": [
    "import os\n",
    "\n",
    "from pyspark import SparkConf\n",
    "from pyspark.sql import SparkSession\n",
    "from pyspark.sql.functions import first, count, when, col, coalesce, lit, abs as absolute"
   ]
  },
  {
   "cell_type": "code",
   "execution_count": 2,
   "metadata": {},
   "outputs": [],
   "source": [
    "spark = SparkSession \\\n",
    "    .builder \\\n",
    "    .config('spark.jars.packages', 'org.apache.hadoop:hadoop-aws:2.7.0') \\\n",
    "    .appName('us_cities_demographics') \\\n",
    "    .getOrCreate()"
   ]
  },
  {
   "cell_type": "markdown",
   "metadata": {},
   "source": [
    "Enter AWS credentials below and uncomment if data are to be stored in S3:"
   ]
  },
  {
   "cell_type": "code",
   "execution_count": 3,
   "metadata": {},
   "outputs": [],
   "source": [
    "# spark.sparkContext \\\n",
    "#      ._jsc \\\n",
    "#      .hadoopConfiguration().set('fs.s3a.access.key', <enter access key>)\n",
    "\n",
    "# spark.sparkContext \\\n",
    "#      ._jsc \\\n",
    "#      .hadoopConfiguration().set('fs.s3a.secret.key', <enter secret key>)\n",
    "    \n",
    "# spark.sparkContext \\\n",
    "#      ._jsc \\\n",
    "#      .hadoopConfiguration().set('fs.s3a.endpoint', 's3.amazonaws.com')\n",
    "\n",
    "# spark.sparkContext \\\n",
    "#      ._jsc \\\n",
    "#      .hadoopConfiguration().set('mapreduce.fileoutputcommitter.algorithm.version', '2')"
   ]
  },
  {
   "cell_type": "markdown",
   "metadata": {},
   "source": [
    "Read data from .csv file to Spark DataFrame."
   ]
  },
  {
   "cell_type": "code",
   "execution_count": 4,
   "metadata": {},
   "outputs": [],
   "source": [
    "path = 'datasets/us-cities-demographics.csv'\n",
    "df = spark.read.csv(path, header=True, sep=';')"
   ]
  },
  {
   "cell_type": "markdown",
   "metadata": {},
   "source": [
    "All data are cast from strings to their respective type, cities are capitalized and prefix SAINT is changed to ST to match city names in us_immigration table."
   ]
  },
  {
   "cell_type": "code",
   "execution_count": 5,
   "metadata": {},
   "outputs": [],
   "source": [
    "df.createOrReplaceTempView('us_cities_demographics')"
   ]
  },
  {
   "cell_type": "code",
   "execution_count": 6,
   "metadata": {},
   "outputs": [],
   "source": [
    "df = spark.sql(\"\"\"\n",
    "    SELECT REPLACE(UPPER(City), 'SAINT', 'ST') AS city,\n",
    "           `State Code` AS state_code,\n",
    "           State AS state,\n",
    "           CAST(`Total Population` AS INT) AS total_population,\n",
    "           CAST(`Male Population` AS INT) AS male_population,\n",
    "           CAST(`Female Population` AS INT) AS female_population,\n",
    "           CAST(`Median Age` AS DOUBLE) AS median_age,\n",
    "           CAST(`Average Household Size` AS DOUBLE) AS average_household_size,\n",
    "           CAST(`Number of Veterans` AS INT) AS number_of_veterans,\n",
    "           CAST(`Foreign-born` AS INT) AS foreign_born,\n",
    "           Race AS race,\n",
    "           CAST(Count AS INT) AS count\n",
    "      FROM us_cities_demographics\n",
    "\"\"\")"
   ]
  },
  {
   "cell_type": "markdown",
   "metadata": {},
   "source": [
    "To transform the data into the desired form, race is used as a pivot. As a result, each row now represents a unique city where the population is not only split by gender, but also by race."
   ]
  },
  {
   "cell_type": "code",
   "execution_count": 7,
   "metadata": {},
   "outputs": [],
   "source": [
    "group_by_cols = [col for col in df.columns if col not in ['race','count']]\n",
    "\n",
    "df = df.groupBy(*group_by_cols).pivot('race').agg(first('count'))"
   ]
  },
  {
   "cell_type": "markdown",
   "metadata": {},
   "source": [
    "To account for the case where a particular race demographic does not exist in a city, nulls are converted to 0. Notice that columns 'Asian' and 'White' should not be dropped since no distinction is made between lowercase and capitalization."
   ]
  },
  {
   "cell_type": "code",
   "execution_count": 8,
   "metadata": {},
   "outputs": [],
   "source": [
    "df = df.withColumn('american_indian_and_alaska_native', coalesce(df['American Indian and Alaska Native'], lit(0))) \\\n",
    "       .withColumn('asian',                             coalesce(df['Asian'],                             lit(0))) \\\n",
    "       .withColumn('black_or_african_american',         coalesce(df['Black or African-American'],         lit(0))) \\\n",
    "       .withColumn('hispanic_or_latino',                coalesce(df['Hispanic or Latino'],                lit(0))) \\\n",
    "       .withColumn('white',                             coalesce(df['White'],                             lit(0))) \\\n",
    "       .drop('American Indian and Alaska Native') \\\n",
    "       .drop('Black or African-American') \\\n",
    "       .drop('Hispanic or Latino')"
   ]
  },
  {
   "cell_type": "code",
   "execution_count": 9,
   "metadata": {},
   "outputs": [],
   "source": [
    "df = df.orderBy('state_code', 'city')"
   ]
  },
  {
   "cell_type": "markdown",
   "metadata": {},
   "source": [
    "Save DataFrame as .parquet in s3a://us-immigration-project or locally."
   ]
  },
  {
   "cell_type": "code",
   "execution_count": 10,
   "metadata": {},
   "outputs": [],
   "source": [
    "# write to S3 bucket\n",
    "# output_data = 's3a://us-immigration-project/'\n",
    "# df.write.parquet(os.path.join(output_data, 'us_cities_demographics'), 'overwrite')\n",
    "\n",
    "# for local write\n",
    "# df.write.parquet('./output/us_cities_demographics', 'overwrite')"
   ]
  },
  {
   "cell_type": "markdown",
   "metadata": {},
   "source": [
    "## 2. Dataset Info"
   ]
  },
  {
   "cell_type": "markdown",
   "metadata": {},
   "source": [
    "DataFrame Schema:"
   ]
  },
  {
   "cell_type": "code",
   "execution_count": 11,
   "metadata": {},
   "outputs": [
    {
     "name": "stdout",
     "output_type": "stream",
     "text": [
      "root\n",
      " |-- city: string (nullable = true)\n",
      " |-- state_code: string (nullable = true)\n",
      " |-- state: string (nullable = true)\n",
      " |-- total_population: integer (nullable = true)\n",
      " |-- male_population: integer (nullable = true)\n",
      " |-- female_population: integer (nullable = true)\n",
      " |-- median_age: double (nullable = true)\n",
      " |-- average_household_size: double (nullable = true)\n",
      " |-- number_of_veterans: integer (nullable = true)\n",
      " |-- foreign_born: integer (nullable = true)\n",
      " |-- asian: integer (nullable = false)\n",
      " |-- white: integer (nullable = false)\n",
      " |-- american_indian_and_alaska_native: integer (nullable = false)\n",
      " |-- black_or_african_american: integer (nullable = false)\n",
      " |-- hispanic_or_latino: integer (nullable = false)\n",
      "\n"
     ]
    }
   ],
   "source": [
    "df.printSchema()"
   ]
  },
  {
   "cell_type": "markdown",
   "metadata": {},
   "source": [
    "Sample DataFrame records:"
   ]
  },
  {
   "cell_type": "code",
   "execution_count": 12,
   "metadata": {},
   "outputs": [
    {
     "name": "stdout",
     "output_type": "stream",
     "text": [
      "-RECORD 0---------------------------------------\n",
      " city                              | ANCHORAGE  \n",
      " state_code                        | AK         \n",
      " state                             | Alaska     \n",
      " total_population                  | 298695     \n",
      " male_population                   | 152945     \n",
      " female_population                 | 145750     \n",
      " median_age                        | 32.2       \n",
      " average_household_size            | 2.77       \n",
      " number_of_veterans                | 27492      \n",
      " foreign_born                      | 33258      \n",
      " asian                             | 36825      \n",
      " white                             | 212696     \n",
      " american_indian_and_alaska_native | 36339      \n",
      " black_or_african_american         | 23107      \n",
      " hispanic_or_latino                | 27261      \n",
      "-RECORD 1---------------------------------------\n",
      " city                              | BIRMINGHAM \n",
      " state_code                        | AL         \n",
      " state                             | Alabama    \n",
      " total_population                  | 214911     \n",
      " male_population                   | 102122     \n",
      " female_population                 | 112789     \n",
      " median_age                        | 35.6       \n",
      " average_household_size            | 2.21       \n",
      " number_of_veterans                | 13212      \n",
      " foreign_born                      | 8258       \n",
      " asian                             | 1500       \n",
      " white                             | 51728      \n",
      " american_indian_and_alaska_native | 1319       \n",
      " black_or_african_american         | 157985     \n",
      " hispanic_or_latino                | 8940       \n",
      "only showing top 2 rows\n",
      "\n"
     ]
    }
   ],
   "source": [
    "df.show(n=2, truncate=False, vertical=True)"
   ]
  },
  {
   "cell_type": "markdown",
   "metadata": {},
   "source": [
    "DataFrame rows and columns:"
   ]
  },
  {
   "cell_type": "code",
   "execution_count": 13,
   "metadata": {},
   "outputs": [
    {
     "name": "stdout",
     "output_type": "stream",
     "text": [
      "rows: 596 columns: 15\n"
     ]
    }
   ],
   "source": [
    "print('rows: {}'.format(df.count()), 'columns: {}'.format(len(df.columns)))"
   ]
  },
  {
   "cell_type": "markdown",
   "metadata": {},
   "source": [
    "## 3. Data Quality Check"
   ]
  },
  {
   "cell_type": "markdown",
   "metadata": {},
   "source": [
    "Check for nulls in each column:"
   ]
  },
  {
   "cell_type": "code",
   "execution_count": 14,
   "metadata": {},
   "outputs": [
    {
     "name": "stdout",
     "output_type": "stream",
     "text": [
      "-RECORD 0--------------------------------\n",
      " city                              | 0   \n",
      " state_code                        | 0   \n",
      " state                             | 0   \n",
      " total_population                  | 0   \n",
      " male_population                   | 1   \n",
      " female_population                 | 1   \n",
      " median_age                        | 0   \n",
      " average_household_size            | 8   \n",
      " number_of_veterans                | 7   \n",
      " foreign_born                      | 7   \n",
      " asian                             | 0   \n",
      " white                             | 0   \n",
      " american_indian_and_alaska_native | 0   \n",
      " black_or_african_american         | 0   \n",
      " hispanic_or_latino                | 0   \n",
      "\n"
     ]
    }
   ],
   "source": [
    "df.select([count(when(col(c).isNull(), c)).alias(c) for c in df.columns]).show(truncate=False, vertical=True)"
   ]
  },
  {
   "cell_type": "markdown",
   "metadata": {},
   "source": [
    "Check that Total Population = Male Population + Female Population in all cities:"
   ]
  },
  {
   "cell_type": "code",
   "execution_count": 15,
   "metadata": {},
   "outputs": [
    {
     "data": {
      "text/plain": [
       "0"
      ]
     },
     "execution_count": 15,
     "metadata": {},
     "output_type": "execute_result"
    }
   ],
   "source": [
    "df.filter((df.male_population + df.female_population - df.total_population) != 0).count()"
   ]
  },
  {
   "cell_type": "markdown",
   "metadata": {},
   "source": [
    "Check that Total Population = Asian + White + American Indian and Alaska Native + Black + Hispanic in all cities:"
   ]
  },
  {
   "cell_type": "code",
   "execution_count": 16,
   "metadata": {},
   "outputs": [
    {
     "data": {
      "text/plain": [
       "596"
      ]
     },
     "execution_count": 16,
     "metadata": {},
     "output_type": "execute_result"
    }
   ],
   "source": [
    "df.filter((df.asian + df.white + df.american_indian_and_alaska_native \\\n",
    "           + df.black_or_african_american + df.hispanic_or_latino - df.total_population) != 0).count()"
   ]
  },
  {
   "cell_type": "markdown",
   "metadata": {},
   "source": [
    "Total Population is not equal to the sum of population of each race in every city. One can speculate that the race demographics come from a different census."
   ]
  },
  {
   "cell_type": "code",
   "execution_count": 17,
   "metadata": {},
   "outputs": [
    {
     "data": {
      "text/plain": [
       "415"
      ]
     },
     "execution_count": 17,
     "metadata": {},
     "output_type": "execute_result"
    }
   ],
   "source": [
    "df.filter(absolute(df.asian + df.white + df.american_indian_and_alaska_native \\\n",
    "                     + df.black_or_african_american + df.hispanic_or_latino \\\n",
    "                       - df.total_population) > 0.1*df.total_population).count()"
   ]
  },
  {
   "cell_type": "markdown",
   "metadata": {},
   "source": [
    "In most cases this difference is greater than 10% of the total population."
   ]
  },
  {
   "cell_type": "markdown",
   "metadata": {},
   "source": [
    "## 4. Primary Key & Columns Related to Other Datasets"
   ]
  },
  {
   "cell_type": "markdown",
   "metadata": {},
   "source": [
    "Total Cities in DataFrame:"
   ]
  },
  {
   "cell_type": "code",
   "execution_count": 18,
   "metadata": {},
   "outputs": [
    {
     "data": {
      "text/plain": [
       "596"
      ]
     },
     "execution_count": 18,
     "metadata": {},
     "output_type": "execute_result"
    }
   ],
   "source": [
    "df.select('city', 'state').orderBy('city').count()"
   ]
  },
  {
   "cell_type": "markdown",
   "metadata": {},
   "source": [
    "Display all cities and the state they belong:"
   ]
  },
  {
   "cell_type": "code",
   "execution_count": 19,
   "metadata": {},
   "outputs": [
    {
     "name": "stdout",
     "output_type": "stream",
     "text": [
      "+-----------------------------------------------+--------------------+\n",
      "|city                                           |state               |\n",
      "+-----------------------------------------------+--------------------+\n",
      "|ABILENE                                        |Texas               |\n",
      "|AKRON                                          |Ohio                |\n",
      "|ALAFAYA                                        |Florida             |\n",
      "|ALAMEDA                                        |California          |\n",
      "|ALBANY                                         |Georgia             |\n",
      "|ALBANY                                         |New York            |\n",
      "|ALBUQUERQUE                                    |New Mexico          |\n",
      "|ALEXANDRIA                                     |Virginia            |\n",
      "|ALHAMBRA                                       |California          |\n",
      "|ALLEN                                          |Pennsylvania        |\n",
      "|ALLEN                                          |Texas               |\n",
      "|AMARILLO                                       |Texas               |\n",
      "|AMES                                           |Iowa                |\n",
      "|ANAHEIM                                        |California          |\n",
      "|ANCHORAGE                                      |Alaska              |\n",
      "|ANN ARBOR                                      |Michigan            |\n",
      "|ANTIOCH                                        |California          |\n",
      "|APPLE VALLEY                                   |California          |\n",
      "|APPLETON                                       |Wisconsin           |\n",
      "|ARDEN-ARCADE                                   |California          |\n",
      "|ARLINGTON                                      |Texas               |\n",
      "|ARLINGTON                                      |Virginia            |\n",
      "|ARLINGTON HEIGHTS                              |Illinois            |\n",
      "|ARVADA                                         |Colorado            |\n",
      "|ASHEVILLE                                      |North Carolina      |\n",
      "|ATASCOCITA                                     |Texas               |\n",
      "|ATHENS-CLARKE COUNTY UNIFIED GOVERNMENT        |Georgia             |\n",
      "|ATLANTA                                        |Georgia             |\n",
      "|AUBURN                                         |Washington          |\n",
      "|AUGUSTA-RICHMOND COUNTY CONSOLIDATED GOVERNMENT|Georgia             |\n",
      "|AURORA                                         |Colorado            |\n",
      "|AURORA                                         |Illinois            |\n",
      "|AUSTIN                                         |Texas               |\n",
      "|AVONDALE                                       |Arizona             |\n",
      "|BAKERSFIELD                                    |California          |\n",
      "|BALDWIN PARK                                   |California          |\n",
      "|BALTIMORE                                      |Maryland            |\n",
      "|BATON ROUGE                                    |Louisiana           |\n",
      "|BAY                                            |Texas               |\n",
      "|BAYAMÓN                                        |Puerto Rico         |\n",
      "|BAYONNE                                        |New Jersey          |\n",
      "|BEAUMONT                                       |Texas               |\n",
      "|BEAVERTON                                      |Oregon              |\n",
      "|BELLEVUE                                       |Washington          |\n",
      "|BELLFLOWER                                     |California          |\n",
      "|BELLINGHAM                                     |Washington          |\n",
      "|BEND                                           |Oregon              |\n",
      "|BERKELEY                                       |California          |\n",
      "|BETHLEHEM                                      |Pennsylvania        |\n",
      "|BILLINGS                                       |Montana             |\n",
      "|BIRMINGHAM                                     |Alabama             |\n",
      "|BISMARCK                                       |North Dakota        |\n",
      "|BK                                             |California          |\n",
      "|BLOOMINGTON                                    |Illinois            |\n",
      "|BLOOMINGTON                                    |Indiana             |\n",
      "|BLOOMINGTON                                    |Minnesota           |\n",
      "|BOCA RATON                                     |Florida             |\n",
      "|BOISE                                          |Idaho               |\n",
      "|BOLINGBROOK                                    |Illinois            |\n",
      "|BOSSIER CITY                                   |Louisiana           |\n",
      "|BOSTON                                         |Massachusetts       |\n",
      "|BOULDER                                        |Colorado            |\n",
      "|BOYNTON BEACH                                  |Florida             |\n",
      "|BRANDON                                        |Florida             |\n",
      "|BRENTWOOD                                      |New York            |\n",
      "|BRIDGEPORT                                     |Connecticut         |\n",
      "|BROCKTON                                       |Massachusetts       |\n",
      "|BROKEN ARROW                                   |Oklahoma            |\n",
      "|BROOKLYN PARK                                  |Minnesota           |\n",
      "|BROOMFIELD                                     |Colorado            |\n",
      "|BROWNSVILLE                                    |Texas               |\n",
      "|BRYAN                                          |Texas               |\n",
      "|BUENA PARK                                     |California          |\n",
      "|BUFFALO                                        |New York            |\n",
      "|CAGUAS                                         |Puerto Rico         |\n",
      "|CAMARILLO                                      |California          |\n",
      "|CAMBRIDGE                                      |Massachusetts       |\n",
      "|CAMDEN                                         |New Jersey          |\n",
      "|CANTON                                         |Ohio                |\n",
      "|CAPE CORAL                                     |Florida             |\n",
      "|CARLSBAD                                       |California          |\n",
      "|CARMEL                                         |Indiana             |\n",
      "|CARMICHAEL                                     |California          |\n",
      "|CAROLINA                                       |Puerto Rico         |\n",
      "|CARROLLTON                                     |Texas               |\n",
      "|CARSON                                         |California          |\n",
      "|CARY                                           |North Carolina      |\n",
      "|CASAS ADOBES                                   |Arizona             |\n",
      "|CEDAR PARK                                     |Texas               |\n",
      "|CEDAR RAPIDS                                   |Iowa                |\n",
      "|CENTENNIAL                                     |Colorado            |\n",
      "|CENTREVILLE                                    |Virginia            |\n",
      "|CHAMPAIGN                                      |Illinois            |\n",
      "|CHANDLER                                       |Arizona             |\n",
      "|CHARLESTON                                     |South Carolina      |\n",
      "|CHARLOTTE                                      |North Carolina      |\n",
      "|CHATTANOOGA                                    |Tennessee           |\n",
      "|CHEEKTOWAGA                                    |New York            |\n",
      "|CHESAPEAKE                                     |Virginia            |\n",
      "|CHICAGO                                        |Illinois            |\n",
      "|CHICO                                          |California          |\n",
      "|CHINO                                          |California          |\n",
      "|CHINO HILLS                                    |California          |\n",
      "|CHULA VISTA                                    |California          |\n",
      "|CICERO                                         |Illinois            |\n",
      "|CINCINNATI                                     |Ohio                |\n",
      "|CITRUS HEIGHTS                                 |California          |\n",
      "|CLARKSVILLE                                    |Tennessee           |\n",
      "|CLEARWATER                                     |Florida             |\n",
      "|CLEVELAND                                      |Ohio                |\n",
      "|CLIFTON                                        |New Jersey          |\n",
      "|CLOVIS                                         |California          |\n",
      "|COLLEGE STATION                                |Texas               |\n",
      "|COLORADO SPRINGS                               |Colorado            |\n",
      "|COLUMBIA                                       |Maryland            |\n",
      "|COLUMBIA                                       |South Carolina      |\n",
      "|COLUMBIA                                       |Missouri            |\n",
      "|COLUMBUS                                       |Ohio                |\n",
      "|COLUMBUS                                       |Georgia             |\n",
      "|COMPTON                                        |California          |\n",
      "|CONCORD                                        |California          |\n",
      "|CONCORD                                        |North Carolina      |\n",
      "|CONROE                                         |Texas               |\n",
      "|CORAL SPRINGS                                  |Florida             |\n",
      "|CORONA                                         |California          |\n",
      "|CORPUS CHRISTI                                 |Texas               |\n",
      "|COSTA MESA                                     |California          |\n",
      "|CRANSTON                                       |Rhode Island        |\n",
      "|DALE CITY                                      |Virginia            |\n",
      "|DALLAS                                         |Texas               |\n",
      "|DALY CITY                                      |California          |\n",
      "|DANBURY                                        |Connecticut         |\n",
      "|DAVENPORT                                      |Iowa                |\n",
      "|DAVIE                                          |Florida             |\n",
      "|DAVIS                                          |California          |\n",
      "|DAYTON                                         |Ohio                |\n",
      "|DEARBORN                                       |Michigan            |\n",
      "|DECATUR                                        |Illinois            |\n",
      "|DEERFIELD BEACH                                |Florida             |\n",
      "|DELRAY BEACH                                   |Florida             |\n",
      "|DELTONA                                        |Florida             |\n",
      "|DENTON                                         |Texas               |\n",
      "|DENVER                                         |Colorado            |\n",
      "|DES MOINES                                     |Iowa                |\n",
      "|DETROIT                                        |Michigan            |\n",
      "|DOTHAN                                         |Alabama             |\n",
      "|DOWNEY                                         |California          |\n",
      "|DULUTH                                         |Minnesota           |\n",
      "|DURHAM                                         |North Carolina      |\n",
      "|EAGAN                                          |Minnesota           |\n",
      "|EAST LOS ANGELES                               |California          |\n",
      "|EAST ORANGE                                    |New Jersey          |\n",
      "|EAU CLAIRE                                     |Wisconsin           |\n",
      "|EDINBURG                                       |Texas               |\n",
      "|EDMOND                                         |Oklahoma            |\n",
      "|EL CAJON                                       |California          |\n",
      "|EL MONTE                                       |California          |\n",
      "|EL PASO                                        |Texas               |\n",
      "|ELGIN                                          |Illinois            |\n",
      "|ELIZABETH                                      |New Jersey          |\n",
      "|ELK GROVE                                      |California          |\n",
      "|ELLICOTT CITY                                  |Maryland            |\n",
      "|ENTERPRISE                                     |Nevada              |\n",
      "|ERIE                                           |Pennsylvania        |\n",
      "|ESCONDIDO                                      |California          |\n",
      "|EUGENE                                         |Oregon              |\n",
      "|EVANSTON                                       |Illinois            |\n",
      "|EVANSVILLE                                     |Indiana             |\n",
      "|EVERETT                                        |Washington          |\n",
      "|FAIRFIELD                                      |California          |\n",
      "|FALL RIVER                                     |Massachusetts       |\n",
      "|FARGO                                          |North Dakota        |\n",
      "|FARMINGTON HILLS                               |Michigan            |\n",
      "|FAYETTEVILLE                                   |Arkansas            |\n",
      "|FAYETTEVILLE                                   |North Carolina      |\n",
      "|FEDERAL WAY                                    |Washington          |\n",
      "|FISHERS                                        |Indiana             |\n",
      "|FLAGSTAFF                                      |Arizona             |\n",
      "|FLINT                                          |Michigan            |\n",
      "|FLORENCE-GRAHAM                                |California          |\n",
      "|FLOWER MOUND                                   |Texas               |\n",
      "|FOLSOM                                         |California          |\n",
      "|FONTANA                                        |California          |\n",
      "|FORT COLLINS                                   |Colorado            |\n",
      "|FORT LAUDERDALE                                |Florida             |\n",
      "|FORT MYERS                                     |Florida             |\n",
      "|FORT SMITH                                     |Arkansas            |\n",
      "|FORT WAYNE                                     |Indiana             |\n",
      "|FORT WORTH                                     |Texas               |\n",
      "|FRAMINGHAM                                     |Massachusetts       |\n",
      "|FRANKLIN                                       |Tennessee           |\n",
      "|FREDERICK                                      |Maryland            |\n",
      "|FREMONT                                        |California          |\n",
      "|FRESNO                                         |California          |\n",
      "|FRISCO                                         |Texas               |\n",
      "|FULLERTON                                      |California          |\n",
      "|GAINESVILLE                                    |Florida             |\n",
      "|GAITHERSBURG                                   |Maryland            |\n",
      "|GARDEN GROVE                                   |California          |\n",
      "|GARLAND                                        |Texas               |\n",
      "|GARY                                           |Indiana             |\n",
      "|GASTONIA                                       |North Carolina      |\n",
      "|GERMAN                                         |Maryland            |\n",
      "|GILBERT                                        |Arizona             |\n",
      "|GLEN BURNIE                                    |Maryland            |\n",
      "|GLENDALE                                       |Arizona             |\n",
      "|GLENDALE                                       |California          |\n",
      "|GOODYEAR                                       |Arizona             |\n",
      "|GRAND PRAIRIE                                  |Texas               |\n",
      "|GRAND RAPIDS                                   |Michigan            |\n",
      "|GREELEY                                        |Colorado            |\n",
      "|GREEN BAY                                      |Wisconsin           |\n",
      "|GREENSBORO                                     |North Carolina      |\n",
      "|GREENVILLE                                     |North Carolina      |\n",
      "|GRESHAM                                        |Oregon              |\n",
      "|GUAYNABO                                       |Puerto Rico         |\n",
      "|GULFPORT                                       |Mississippi         |\n",
      "|HAMMOND                                        |Indiana             |\n",
      "|HAMPTON                                        |Virginia            |\n",
      "|HARLINGEN                                      |Texas               |\n",
      "|HARTFORD                                       |Connecticut         |\n",
      "|HAWTHORNE                                      |California          |\n",
      "|HAYWARD                                        |California          |\n",
      "|HEMET                                          |California          |\n",
      "|HENDERSON                                      |Nevada              |\n",
      "|HESPERIA                                       |California          |\n",
      "|HIALEAH                                        |Florida             |\n",
      "|HIGH POINT                                     |North Carolina      |\n",
      "|HIGHLANDS RANCH                                |Colorado            |\n",
      "|HILLSBORO                                      |Oregon              |\n",
      "|HOLLYWOOD                                      |Florida             |\n",
      "|HOMESTEAD                                      |Florida             |\n",
      "|HOOVER                                         |Alabama             |\n",
      "|HOUSTON                                        |Texas               |\n",
      "|HUNTINGTON BEACH                               |California          |\n",
      "|HUNTSVILLE                                     |Alabama             |\n",
      "|INDEPENDENCE                                   |Missouri            |\n",
      "|INDIANAPOLIS                                   |Indiana             |\n",
      "|INDIO                                          |California          |\n",
      "|INGLEWOOD                                      |California          |\n",
      "|IOWA CITY                                      |Iowa                |\n",
      "|IRVINE                                         |California          |\n",
      "|IRVING                                         |Texas               |\n",
      "|JACKSON                                        |Mississippi         |\n",
      "|JACKSON                                        |Tennessee           |\n",
      "|JACKSONVILLE                                   |Florida             |\n",
      "|JACKSONVILLE                                   |North Carolina      |\n",
      "|JERSEY CITY                                    |New Jersey          |\n",
      "|JOHNS CREEK                                    |Georgia             |\n",
      "|JOHNSON CITY                                   |Tennessee           |\n",
      "|JOLIET                                         |Illinois            |\n",
      "|JONESBORO                                      |Arkansas            |\n",
      "|JURUPA VALLEY                                  |California          |\n",
      "|KALAMAZOO                                      |Michigan            |\n",
      "|KANSAS CITY                                    |Missouri            |\n",
      "|KANSAS CITY                                    |Kansas              |\n",
      "|KENDALL                                        |Florida             |\n",
      "|KENNER                                         |Louisiana           |\n",
      "|KENNEWICK                                      |Washington          |\n",
      "|KENOSHA                                        |Wisconsin           |\n",
      "|KENT                                           |Washington          |\n",
      "|KILLEEN                                        |Texas               |\n",
      "|KIRKLAND                                       |Washington          |\n",
      "|KISSIMMEE                                      |Florida             |\n",
      "|KNOXVILLE                                      |Tennessee           |\n",
      "|LAFAYETTE                                      |Indiana             |\n",
      "|LAFAYETTE                                      |Louisiana           |\n",
      "|LAGUNA NIGUEL                                  |California          |\n",
      "|LAKE CHARLES                                   |Louisiana           |\n",
      "|LAKE FOREST                                    |California          |\n",
      "|LAKELAND                                       |Florida             |\n",
      "|LAKEWOOD                                       |California          |\n",
      "|LAKEWOOD                                       |Colorado            |\n",
      "|LANCASTER                                      |California          |\n",
      "|LANSING                                        |Michigan            |\n",
      "|LAREDO                                         |Texas               |\n",
      "|LARGO                                          |Florida             |\n",
      "|LAS CRUCES                                     |New Mexico          |\n",
      "|LAS VEGAS                                      |Nevada              |\n",
      "|LAUDERHILL                                     |Florida             |\n",
      "|LAWRENCE                                       |Kansas              |\n",
      "|LAWRENCE                                       |Massachusetts       |\n",
      "|LAWTON                                         |Oklahoma            |\n",
      "|LAYTON                                         |Utah                |\n",
      "|LEAGUE CITY                                    |Texas               |\n",
      "|LEE'S SUMMIT                                   |Missouri            |\n",
      "|LEHIGH ACRES                                   |Florida             |\n",
      "|LEWISVILLE                                     |Texas               |\n",
      "|LEXINGTON-FAYETTE  COUNTY                      |Kentucky            |\n",
      "|LINCOLN                                        |Nebraska            |\n",
      "|LITTLE ROCK                                    |Arkansas            |\n",
      "|LIVERMORE                                      |California          |\n",
      "|LIVONIA                                        |Michigan            |\n",
      "|LONG BEACH                                     |California          |\n",
      "|LONGMONT                                       |Colorado            |\n",
      "|LONGVIEW                                       |Texas               |\n",
      "|LORAIN                                         |Ohio                |\n",
      "|LOS ANGELES                                    |California          |\n",
      "|LOUISVILLE/JEFFERSON COUNTY METRO GOVERNMENT   |Kentucky            |\n",
      "|LOVELAND                                       |Colorado            |\n",
      "|LOWELL                                         |Massachusetts       |\n",
      "|LUBBOCK                                        |Texas               |\n",
      "|LYNCHBURG                                      |Virginia            |\n",
      "|LYNN                                           |Massachusetts       |\n",
      "|LYNWOOD                                        |California          |\n",
      "|MACON                                          |Georgia             |\n",
      "|MADISON                                        |Wisconsin           |\n",
      "|MANCHESTER                                     |New Hampshire       |\n",
      "|MANTECA                                        |California          |\n",
      "|MAPLE GROVE                                    |Minnesota           |\n",
      "|MARYSVILLE                                     |Washington          |\n",
      "|MAYAGÜEZ                                       |Puerto Rico         |\n",
      "|MCALLEN                                        |Texas               |\n",
      "|MCKINNEY                                       |Texas               |\n",
      "|MEDFORD                                        |Oregon              |\n",
      "|MELBOURNE                                      |Florida             |\n",
      "|MEMPHIS                                        |Tennessee           |\n",
      "|MENIFEE                                        |California          |\n",
      "|MERCED                                         |California          |\n",
      "|MERIDIAN                                       |Idaho               |\n",
      "|MESA                                           |Arizona             |\n",
      "|MESQUITE                                       |Texas               |\n",
      "|METAIRIE                                       |Louisiana           |\n",
      "|MIAMI                                          |Florida             |\n",
      "|MIAMI BEACH                                    |Florida             |\n",
      "|MIAMI GARDENS                                  |Florida             |\n",
      "|MIDLAND                                        |Texas               |\n",
      "|MILPITAS                                       |California          |\n",
      "|MILWAUKEE                                      |Wisconsin           |\n",
      "|MINNEAPOLIS                                    |Minnesota           |\n",
      "|MIRAMAR                                        |Florida             |\n",
      "|MISSION                                        |Texas               |\n",
      "|MISSION VIEJO                                  |California          |\n",
      "|MISSOULA                                       |Montana             |\n",
      "|MISSOURI CITY                                  |Texas               |\n",
      "|MOBILE                                         |Alabama             |\n",
      "|MODESTO                                        |California          |\n",
      "|MONTGOMERY                                     |Alabama             |\n",
      "|MORENO VALLEY                                  |California          |\n",
      "|MOUNT PLEASANT                                 |South Carolina      |\n",
      "|MOUNT VERNON                                   |New York            |\n",
      "|MOUNTAIN VIEW                                  |California          |\n",
      "|MUNCIE                                         |Indiana             |\n",
      "|MURFREESBORO                                   |Tennessee           |\n",
      "|MURRIETA                                       |California          |\n",
      "|NAMPA                                          |Idaho               |\n",
      "|NAPA                                           |California          |\n",
      "|NAPERVILLE                                     |Illinois            |\n",
      "|NASHUA                                         |New Hampshire       |\n",
      "|NASHVILLE                                      |Tennessee           |\n",
      "|NEW BEDFORD                                    |Massachusetts       |\n",
      "|NEW BRAUNFELS                                  |Texas               |\n",
      "|NEW BRITAIN                                    |Connecticut         |\n",
      "|NEW HAVEN                                      |Connecticut         |\n",
      "|NEW ORLEANS                                    |Louisiana           |\n",
      "|NEW ROCHELLE                                   |New York            |\n",
      "|NEW YORK                                       |New York            |\n",
      "|NEWARK                                         |New Jersey          |\n",
      "|NEWPORT BEACH                                  |California          |\n",
      "|NEWPORT NEWS                                   |Virginia            |\n",
      "|NEWTON                                         |Massachusetts       |\n",
      "|NORFOLK                                        |Virginia            |\n",
      "|NORMAN                                         |Oklahoma            |\n",
      "|NORTH CHARLESTON                               |South Carolina      |\n",
      "|NORTH LAS VEGAS                                |Nevada              |\n",
      "|NORTH LITTLE ROCK                              |Arkansas            |\n",
      "|NORTH RICHLAND HILLS                           |Texas               |\n",
      "|NORWALK                                        |California          |\n",
      "|NORWALK                                        |Connecticut         |\n",
      "|O'FALLON                                       |Missouri            |\n",
      "|OAKLAND                                        |California          |\n",
      "|OCEANSIDE                                      |California          |\n",
      "|ODESSA                                         |Texas               |\n",
      "|OGDEN                                          |Utah                |\n",
      "|OKLAHOMA CITY                                  |Oklahoma            |\n",
      "|OLATHE                                         |Kansas              |\n",
      "|OMAHA                                          |Nebraska            |\n",
      "|ONTARIO                                        |California          |\n",
      "|ORANGE                                         |California          |\n",
      "|OREM                                           |Utah                |\n",
      "|ORLANDO                                        |Florida             |\n",
      "|OSHKOSH                                        |Wisconsin           |\n",
      "|OVERLAND PARK                                  |Kansas              |\n",
      "|OXNARD                                         |California          |\n",
      "|PALATINE                                       |Illinois            |\n",
      "|PALM BAY                                       |Florida             |\n",
      "|PALM COAST                                     |Florida             |\n",
      "|PALMDALE                                       |California          |\n",
      "|PALO ALTO                                      |California          |\n",
      "|PARADISE                                       |Nevada              |\n",
      "|PARMA                                          |Ohio                |\n",
      "|PASADENA                                       |California          |\n",
      "|PASADENA                                       |Texas               |\n",
      "|PASCO                                          |Washington          |\n",
      "|PASSAIC                                        |New Jersey          |\n",
      "|PATERSON                                       |New Jersey          |\n",
      "|PAWTUCKET                                      |Rhode Island        |\n",
      "|PEARLAND                                       |Texas               |\n",
      "|PEMBROKE PINES                                 |Florida             |\n",
      "|PEORIA                                         |Illinois            |\n",
      "|PEORIA                                         |Arizona             |\n",
      "|PERRIS                                         |California          |\n",
      "|PHARR                                          |Texas               |\n",
      "|PHILADELPHIA                                   |Pennsylvania        |\n",
      "|PHOENIX                                        |Arizona             |\n",
      "|PINE HILLS                                     |Florida             |\n",
      "|PITTSBURG                                      |California          |\n",
      "|PITTSBURGH                                     |Pennsylvania        |\n",
      "|PLANO                                          |Texas               |\n",
      "|PLANTATION                                     |Florida             |\n",
      "|PLEASANTON                                     |California          |\n",
      "|PLYMOUTH                                       |Minnesota           |\n",
      "|POINCIANA                                      |Florida             |\n",
      "|POMONA                                         |California          |\n",
      "|POMPANO BEACH                                  |Florida             |\n",
      "|PONCE                                          |Puerto Rico         |\n",
      "|PORT ST LUCIE                                  |Florida             |\n",
      "|PORTLAND                                       |Oregon              |\n",
      "|PORTLAND                                       |Maine               |\n",
      "|PORTSMOUTH                                     |Virginia            |\n",
      "|PROVIDENCE                                     |Rhode Island        |\n",
      "|PROVO                                          |Utah                |\n",
      "|PUEBLO                                         |Colorado            |\n",
      "|QUINCY                                         |Massachusetts       |\n",
      "|RACINE                                         |Wisconsin           |\n",
      "|RALEIGH                                        |North Carolina      |\n",
      "|RANCHO CORDOVA                                 |California          |\n",
      "|RANCHO CUCAMONGA                               |California          |\n",
      "|RAPID CITY                                     |South Dakota        |\n",
      "|READING                                        |Pennsylvania        |\n",
      "|REDDING                                        |California          |\n",
      "|REDLANDS                                       |California          |\n",
      "|REDONDO BEACH                                  |California          |\n",
      "|REDWOOD CITY                                   |California          |\n",
      "|RENO                                           |Nevada              |\n",
      "|RENTON                                         |Washington          |\n",
      "|RIALTO                                         |California          |\n",
      "|RICHARDSON                                     |Texas               |\n",
      "|RICHMOND                                       |Virginia            |\n",
      "|RICHMOND                                       |California          |\n",
      "|RIO RANCHO                                     |New Mexico          |\n",
      "|RIVERSIDE                                      |California          |\n",
      "|RIVERVIEW                                      |Florida             |\n",
      "|ROANOKE                                        |Virginia            |\n",
      "|ROCHESTER                                      |Minnesota           |\n",
      "|ROCHESTER                                      |New York            |\n",
      "|ROCHESTER HILLS                                |Michigan            |\n",
      "|ROCK HILL                                      |South Carolina      |\n",
      "|ROCKFORD                                       |Illinois            |\n",
      "|ROCKVILLE                                      |Maryland            |\n",
      "|ROSEVILLE                                      |California          |\n",
      "|ROSWELL                                        |Georgia             |\n",
      "|ROUND ROCK                                     |Texas               |\n",
      "|SACRAMENTO                                     |California          |\n",
      "|SALEM                                          |Oregon              |\n",
      "|SALINAS                                        |California          |\n",
      "|SALT LAKE CITY                                 |Utah                |\n",
      "|SAN ANGELO                                     |Texas               |\n",
      "|SAN ANTONIO                                    |Texas               |\n",
      "|SAN BERNARDINO                                 |California          |\n",
      "|SAN BUENAVENTURA                               |California          |\n",
      "|SAN CLEMENTE                                   |California          |\n",
      "|SAN DIEGO                                      |California          |\n",
      "|SAN FRANCISCO                                  |California          |\n",
      "|SAN JOSE                                       |California          |\n",
      "|SAN JUAN                                       |Puerto Rico         |\n",
      "|SAN LEANDRO                                    |California          |\n",
      "|SAN MARCOS                                     |California          |\n",
      "|SAN MATEO                                      |California          |\n",
      "|SAN RAMON                                      |California          |\n",
      "|SAN TAN VALLEY                                 |Arizona             |\n",
      "|SANDY                                          |Utah                |\n",
      "|SANDY SPRINGS                                  |Georgia             |\n",
      "|SANTA ANA                                      |California          |\n",
      "|SANTA BARBARA                                  |California          |\n",
      "|SANTA CLARA                                    |California          |\n",
      "|SANTA CLARITA                                  |California          |\n",
      "|SANTA FE                                       |New Mexico          |\n",
      "|SANTA MARIA                                    |California          |\n",
      "|SANTA MONICA                                   |California          |\n",
      "|SANTA ROSA                                     |California          |\n",
      "|SAVANNAH                                       |Georgia             |\n",
      "|SCHAUMBURG                                     |Illinois            |\n",
      "|SCHENECTADY                                    |New York            |\n",
      "|SCOTTSDALE                                     |Arizona             |\n",
      "|SCRANTON                                       |Pennsylvania        |\n",
      "|SEATTLE                                        |Washington          |\n",
      "|SHAWNEE                                        |Kansas              |\n",
      "|SHREVEPORT                                     |Louisiana           |\n",
      "|SILVER SPRING                                  |Maryland            |\n",
      "|SIMI VALLEY                                    |California          |\n",
      "|SIOUX CITY                                     |Iowa                |\n",
      "|SIOUX FALLS                                    |South Dakota        |\n",
      "|SKOKIE                                         |Illinois            |\n",
      "|SOMERVILLE                                     |Massachusetts       |\n",
      "|SOUTH BEND                                     |Indiana             |\n",
      "|SOUTH GATE                                     |California          |\n",
      "|SOUTH JORDAN                                   |Utah                |\n",
      "|SOUTH SAN FRANCISCO                            |California          |\n",
      "|SOUTHFIELD                                     |Michigan            |\n",
      "|SPARKS                                         |Nevada              |\n",
      "|SPOKANE                                        |Washington          |\n",
      "|SPOKANE VALLEY                                 |Washington          |\n",
      "|SPRING HILL                                    |Florida             |\n",
      "|SPRING VALLEY                                  |Nevada              |\n",
      "|SPRINGDALE                                     |Arkansas            |\n",
      "|SPRINGFIELD                                    |Massachusetts       |\n",
      "|SPRINGFIELD                                    |Illinois            |\n",
      "|SPRINGFIELD                                    |Missouri            |\n",
      "|ST CHARLES                                     |Missouri            |\n",
      "|ST CLOUD                                       |Minnesota           |\n",
      "|ST GEORGE                                      |Utah                |\n",
      "|ST JOSEPH                                      |Missouri            |\n",
      "|ST LOUIS                                       |Missouri            |\n",
      "|ST PAUL                                        |Minnesota           |\n",
      "|ST PETERSBURG                                  |Florida             |\n",
      "|STAMFORD                                       |Connecticut         |\n",
      "|STERLING HEIGHTS                               |Michigan            |\n",
      "|STOCKTON                                       |California          |\n",
      "|SUFFOLK                                        |Virginia            |\n",
      "|SUGAR LAND                                     |Texas               |\n",
      "|SUNNYVALE                                      |California          |\n",
      "|SUNRISE                                        |Florida             |\n",
      "|SUNRISE MANOR                                  |Nevada              |\n",
      "|SURPRISE                                       |Arizona             |\n",
      "|SYRACUSE                                       |New York            |\n",
      "|TACOMA                                         |Washington          |\n",
      "|TALLAHASSEE                                    |Florida             |\n",
      "|TAMPA                                          |Florida             |\n",
      "|TEMECULA                                       |California          |\n",
      "|TEMPE                                          |Arizona             |\n",
      "|TEMPLE                                         |Texas               |\n",
      "|THE VILLAGES                                   |Florida             |\n",
      "|THE WOODLANDS                                  |Texas               |\n",
      "|THORNTON                                       |Colorado            |\n",
      "|THOUSAND OAKS                                  |California          |\n",
      "|TOLEDO                                         |Ohio                |\n",
      "|TOMS RIVER                                     |New Jersey          |\n",
      "|TOPEKA                                         |Kansas              |\n",
      "|TORRANCE                                       |California          |\n",
      "|TOWN 'N' COUNTRY                               |Florida             |\n",
      "|TRACY                                          |California          |\n",
      "|TRENTON                                        |New Jersey          |\n",
      "|TROY                                           |Michigan            |\n",
      "|TUCSON                                         |Arizona             |\n",
      "|TULSA                                          |Oklahoma            |\n",
      "|TURLOCK                                        |California          |\n",
      "|TUSCALOOSA                                     |Alabama             |\n",
      "|TUSTIN                                         |California          |\n",
      "|TYLER                                          |Texas               |\n",
      "|UNION CITY                                     |California          |\n",
      "|UNION CITY                                     |New Jersey          |\n",
      "|UPLAND                                         |California          |\n",
      "|URBAN HONOLULU                                 |Hawaii              |\n",
      "|VACAVILLE                                      |California          |\n",
      "|VALLEJO                                        |California          |\n",
      "|VANCOUVER                                      |Washington          |\n",
      "|VICTORIA                                       |Texas               |\n",
      "|VICTORVILLE                                    |California          |\n",
      "|VIRGINIA BEACH                                 |Virginia            |\n",
      "|VISALIA                                        |California          |\n",
      "|VISTA                                          |California          |\n",
      "|WACO                                           |Texas               |\n",
      "|WALDORF                                        |Maryland            |\n",
      "|WALNUT CREEK                                   |California          |\n",
      "|WARNER ROBINS                                  |Georgia             |\n",
      "|WARREN                                         |Michigan            |\n",
      "|WARWICK                                        |Rhode Island        |\n",
      "|WASHINGTON                                     |District of Columbia|\n",
      "|WATERBURY                                      |Connecticut         |\n",
      "|WATERLOO                                       |Iowa                |\n",
      "|WAUKEGAN                                       |Illinois            |\n",
      "|WAUKESHA                                       |Wisconsin           |\n",
      "|WEST COVINA                                    |California          |\n",
      "|WEST JORDAN                                    |Utah                |\n",
      "|WEST PALM BEACH                                |Florida             |\n",
      "|WEST VALLEY CITY                               |Utah                |\n",
      "|WESTLAND                                       |Michigan            |\n",
      "|WESTMINSTER                                    |Colorado            |\n",
      "|WESTMINSTER                                    |California          |\n",
      "|WESTON                                         |Florida             |\n",
      "|WHITTIER                                       |California          |\n",
      "|WICHITA                                        |Kansas              |\n",
      "|WICHITA FALLS                                  |Texas               |\n",
      "|WILMINGTON                                     |North Carolina      |\n",
      "|WILMINGTON                                     |Delaware            |\n",
      "|WINSTON-SALEM                                  |North Carolina      |\n",
      "|WOODBURY                                       |Minnesota           |\n",
      "|WORCESTER                                      |Massachusetts       |\n",
      "|WYOMING                                        |Michigan            |\n",
      "|YAKIMA                                         |Washington          |\n",
      "|YONKERS                                        |New York            |\n",
      "|YORBA LINDA                                    |California          |\n",
      "|YOUNGS                                         |Ohio                |\n",
      "|YUBA CITY                                      |California          |\n",
      "|YUMA                                           |Arizona             |\n",
      "+-----------------------------------------------+--------------------+\n",
      "\n"
     ]
    }
   ],
   "source": [
    "df.select('city', 'state').orderBy('city').show(596, truncate=False)"
   ]
  },
  {
   "cell_type": "markdown",
   "metadata": {},
   "source": [
    "Some cities have the same name but are in different states."
   ]
  },
  {
   "cell_type": "markdown",
   "metadata": {},
   "source": [
    "Total states in DataFrame:"
   ]
  },
  {
   "cell_type": "code",
   "execution_count": 20,
   "metadata": {},
   "outputs": [
    {
     "data": {
      "text/plain": [
       "49"
      ]
     },
     "execution_count": 20,
     "metadata": {},
     "output_type": "execute_result"
    }
   ],
   "source": [
    "df.select('state', 'state_code').distinct().orderBy('state').count()"
   ]
  },
  {
   "cell_type": "markdown",
   "metadata": {},
   "source": [
    "Display all states and state codes:"
   ]
  },
  {
   "cell_type": "code",
   "execution_count": 21,
   "metadata": {},
   "outputs": [
    {
     "name": "stdout",
     "output_type": "stream",
     "text": [
      "+--------------------+----------+\n",
      "|state               |state_code|\n",
      "+--------------------+----------+\n",
      "|Alabama             |AL        |\n",
      "|Alaska              |AK        |\n",
      "|Arizona             |AZ        |\n",
      "|Arkansas            |AR        |\n",
      "|California          |CA        |\n",
      "|Colorado            |CO        |\n",
      "|Connecticut         |CT        |\n",
      "|Delaware            |DE        |\n",
      "|District of Columbia|DC        |\n",
      "|Florida             |FL        |\n",
      "|Georgia             |GA        |\n",
      "|Hawaii              |HI        |\n",
      "|Idaho               |ID        |\n",
      "|Illinois            |IL        |\n",
      "|Indiana             |IN        |\n",
      "|Iowa                |IA        |\n",
      "|Kansas              |KS        |\n",
      "|Kentucky            |KY        |\n",
      "|Louisiana           |LA        |\n",
      "|Maine               |ME        |\n",
      "|Maryland            |MD        |\n",
      "|Massachusetts       |MA        |\n",
      "|Michigan            |MI        |\n",
      "|Minnesota           |MN        |\n",
      "|Mississippi         |MS        |\n",
      "|Missouri            |MO        |\n",
      "|Montana             |MT        |\n",
      "|Nebraska            |NE        |\n",
      "|Nevada              |NV        |\n",
      "|New Hampshire       |NH        |\n",
      "|New Jersey          |NJ        |\n",
      "|New Mexico          |NM        |\n",
      "|New York            |NY        |\n",
      "|North Carolina      |NC        |\n",
      "|North Dakota        |ND        |\n",
      "|Ohio                |OH        |\n",
      "|Oklahoma            |OK        |\n",
      "|Oregon              |OR        |\n",
      "|Pennsylvania        |PA        |\n",
      "|Puerto Rico         |PR        |\n",
      "|Rhode Island        |RI        |\n",
      "|South Carolina      |SC        |\n",
      "|South Dakota        |SD        |\n",
      "|Tennessee           |TN        |\n",
      "|Texas               |TX        |\n",
      "|Utah                |UT        |\n",
      "|Virginia            |VA        |\n",
      "|Washington          |WA        |\n",
      "|Wisconsin           |WI        |\n",
      "+--------------------+----------+\n",
      "\n"
     ]
    }
   ],
   "source": [
    "df.select('state', 'state_code').distinct().orderBy('state').show(49, truncate=False)"
   ]
  }
 ],
 "metadata": {
  "kernelspec": {
   "display_name": "Python 3",
   "language": "python",
   "name": "python3"
  },
  "language_info": {
   "codemirror_mode": {
    "name": "ipython",
    "version": 3
   },
   "file_extension": ".py",
   "mimetype": "text/x-python",
   "name": "python",
   "nbconvert_exporter": "python",
   "pygments_lexer": "ipython3",
   "version": "3.7.7"
  }
 },
 "nbformat": 4,
 "nbformat_minor": 4
}
