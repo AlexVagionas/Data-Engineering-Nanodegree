{
 "cells": [
  {
   "cell_type": "markdown",
   "metadata": {},
   "source": [
    "# US Cities Temperature\n",
    "## 1. ETL Process"
   ]
  },
  {
   "cell_type": "code",
   "execution_count": 1,
   "metadata": {},
   "outputs": [],
   "source": [
    "import os\n",
    "\n",
    "from pyspark import SparkConf\n",
    "from pyspark.sql import SparkSession\n",
    "from pyspark.sql.types import StructType as R, StructField as Fld, StringType as Str, DateType as Date, DecimalType as Dec\n",
    "from pyspark.sql.functions import count, when, col"
   ]
  },
  {
   "cell_type": "code",
   "execution_count": 2,
   "metadata": {},
   "outputs": [],
   "source": [
    "spark = SparkSession \\\n",
    "    .builder \\\n",
    "    .config('spark.jars.packages', 'org.apache.hadoop:hadoop-aws:2.7.0') \\\n",
    "    .appName('us_cities_temperature') \\\n",
    "    .getOrCreate()"
   ]
  },
  {
   "cell_type": "markdown",
   "metadata": {},
   "source": [
    "Enter AWS credentials below and uncomment if data are to be stored in S3:"
   ]
  },
  {
   "cell_type": "code",
   "execution_count": 3,
   "metadata": {},
   "outputs": [],
   "source": [
    "# spark.sparkContext \\\n",
    "#      ._jsc \\\n",
    "#      .hadoopConfiguration().set('fs.s3a.access.key', <enter access key>)\n",
    "\n",
    "# spark.sparkContext \\\n",
    "#      ._jsc \\\n",
    "#      .hadoopConfiguration().set('fs.s3a.secret.key', <enter secret key>)\n",
    "    \n",
    "# spark.sparkContext \\\n",
    "#      ._jsc \\\n",
    "#      .hadoopConfiguration().set('fs.s3a.endpoint', 's3.amazonaws.com')\n",
    "\n",
    "# spark.sparkContext \\\n",
    "#      ._jsc \\\n",
    "#      .hadoopConfiguration().set('mapreduce.fileoutputcommitter.algorithm.version', '2')"
   ]
  },
  {
   "cell_type": "markdown",
   "metadata": {},
   "source": [
    "At first, a custom schema is created so that the average temperature and uncertainty data are rounded to 2 decimals and the other entries are read as strings. "
   ]
  },
  {
   "cell_type": "code",
   "execution_count": 4,
   "metadata": {},
   "outputs": [],
   "source": [
    "temperatureSchema = R([\n",
    "    Fld('dt', Date()),\n",
    "    Fld('AverageTemperature', Dec(4,2)),\n",
    "    Fld('AverageTemperatureUncertainty', Dec(4,2)),\n",
    "    Fld('City', Str()),\n",
    "    Fld('Country', Str()),\n",
    "    Fld('Latitude', Str()),\n",
    "    Fld('Longitude', Str())\n",
    "])"
   ]
  },
  {
   "cell_type": "markdown",
   "metadata": {},
   "source": [
    "The data are read from the .csv file into a Spark DataFrame."
   ]
  },
  {
   "cell_type": "code",
   "execution_count": 5,
   "metadata": {},
   "outputs": [],
   "source": [
    "path = 'datasets/GlobalLandTemperaturesByCity.csv'\n",
    "df = spark.read.csv(path, header=True, schema=temperatureSchema)"
   ]
  },
  {
   "cell_type": "markdown",
   "metadata": {},
   "source": [
    "The average yearly temperature and temperature uncertainty are calculated only for cities in the U.S. by taking into account measurements in the 21st century. The measurements from 2013 are ingonred since October, November and December are missing, meaning that the average temperature for that year will appear misleadingly higher."
   ]
  },
  {
   "cell_type": "code",
   "execution_count": 6,
   "metadata": {},
   "outputs": [],
   "source": [
    "df.createOrReplaceTempView('temperatures')"
   ]
  },
  {
   "cell_type": "code",
   "execution_count": 7,
   "metadata": {},
   "outputs": [],
   "source": [
    "df = spark.sql(\"\"\"\n",
    "    SELECT REPLACE(UPPER(City), 'SAINT', 'ST') AS city, \n",
    "           CAST(AVG(AverageTemperature) AS DECIMAL(4,2)) AS average_temperature, \n",
    "           CAST(AVG(AverageTemperatureUncertainty) AS DECIMAL(4,2)) AS average_temperature_uncertainty \n",
    "      FROM (\n",
    "             SELECT *, YEAR(dt) AS year, MONTH(dt) AS month\n",
    "               FROM temperatures\n",
    "           )\n",
    "     WHERE Country = \"United States\" AND year >= 2000 AND year < 2013\n",
    "     GROUP BY City\n",
    "     ORDER BY City\n",
    "\"\"\")"
   ]
  },
  {
   "cell_type": "markdown",
   "metadata": {},
   "source": [
    "Save DataFrame as .parquet in s3a://us-immigration-project or locally."
   ]
  },
  {
   "cell_type": "code",
   "execution_count": 8,
   "metadata": {},
   "outputs": [],
   "source": [
    "# write to S3 bucket\n",
    "# output_data = 's3a://us-immigration-project/'\n",
    "# df.write.parquet(os.path.join(output_data, 'us_cities_temperature'), 'overwrite')\n",
    "\n",
    "# for local write\n",
    "# df.write.parquet('./output/us_cities_temperature', 'overwrite')"
   ]
  },
  {
   "cell_type": "markdown",
   "metadata": {},
   "source": [
    "## 2. Dataset Info"
   ]
  },
  {
   "cell_type": "markdown",
   "metadata": {},
   "source": [
    "DataFrame Schema:"
   ]
  },
  {
   "cell_type": "code",
   "execution_count": 9,
   "metadata": {},
   "outputs": [
    {
     "name": "stdout",
     "output_type": "stream",
     "text": [
      "root\n",
      " |-- city: string (nullable = true)\n",
      " |-- average_temperature: decimal(4,2) (nullable = true)\n",
      " |-- average_temperature_uncertainty: decimal(4,2) (nullable = true)\n",
      "\n"
     ]
    }
   ],
   "source": [
    "df.printSchema()"
   ]
  },
  {
   "cell_type": "markdown",
   "metadata": {},
   "source": [
    "Sample DataFrame records:"
   ]
  },
  {
   "cell_type": "code",
   "execution_count": 10,
   "metadata": {},
   "outputs": [
    {
     "name": "stdout",
     "output_type": "stream",
     "text": [
      "-RECORD 0----------------------------------\n",
      " city                            | ABILENE \n",
      " average_temperature             | 17.76   \n",
      " average_temperature_uncertainty | 0.27    \n",
      "-RECORD 1----------------------------------\n",
      " city                            | AKRON   \n",
      " average_temperature             | 10.75   \n",
      " average_temperature_uncertainty | 0.25    \n",
      "only showing top 2 rows\n",
      "\n"
     ]
    }
   ],
   "source": [
    "df.show(n=2, truncate=False, vertical=True)"
   ]
  },
  {
   "cell_type": "markdown",
   "metadata": {},
   "source": [
    "DataFrame rows and columns:"
   ]
  },
  {
   "cell_type": "code",
   "execution_count": 11,
   "metadata": {},
   "outputs": [
    {
     "name": "stdout",
     "output_type": "stream",
     "text": [
      "rows: 248 columns: 3\n"
     ]
    }
   ],
   "source": [
    "print('rows: {}'.format(df.count()), 'columns: {}'.format(len(df.columns)))"
   ]
  },
  {
   "cell_type": "markdown",
   "metadata": {},
   "source": [
    "## 3. Data Quality Check"
   ]
  },
  {
   "cell_type": "markdown",
   "metadata": {},
   "source": [
    "Check for nulls in each column:"
   ]
  },
  {
   "cell_type": "code",
   "execution_count": 12,
   "metadata": {},
   "outputs": [
    {
     "name": "stdout",
     "output_type": "stream",
     "text": [
      "-RECORD 0------------------------------\n",
      " city                            | 0   \n",
      " average_temperature             | 0   \n",
      " average_temperature_uncertainty | 0   \n",
      "\n"
     ]
    }
   ],
   "source": [
    "df.select([count(when(col(c).isNull(), c)).alias(c) for c in df.columns]).show(truncate=False, vertical=True)"
   ]
  },
  {
   "cell_type": "markdown",
   "metadata": {},
   "source": [
    "## 4. Primary Key & Columns Related to Other Datasets"
   ]
  },
  {
   "cell_type": "markdown",
   "metadata": {},
   "source": [
    "Total Cities in DataFrame:"
   ]
  },
  {
   "cell_type": "code",
   "execution_count": 13,
   "metadata": {},
   "outputs": [
    {
     "data": {
      "text/plain": [
       "248"
      ]
     },
     "execution_count": 13,
     "metadata": {},
     "output_type": "execute_result"
    }
   ],
   "source": [
    "df.select('city').orderBy('city').count()"
   ]
  },
  {
   "cell_type": "markdown",
   "metadata": {},
   "source": [
    "Display all cities:"
   ]
  },
  {
   "cell_type": "code",
   "execution_count": 14,
   "metadata": {},
   "outputs": [
    {
     "name": "stdout",
     "output_type": "stream",
     "text": [
      "+-----------------+\n",
      "|city             |\n",
      "+-----------------+\n",
      "|ABILENE          |\n",
      "|AKRON            |\n",
      "|ALBUQUERQUE      |\n",
      "|ALEXANDRIA       |\n",
      "|ALLENTOWN        |\n",
      "|AMARILLO         |\n",
      "|ANAHEIM          |\n",
      "|ANCHORAGE        |\n",
      "|ANN ARBOR        |\n",
      "|ANTIOCH          |\n",
      "|ARLINGTON        |\n",
      "|ARVADA           |\n",
      "|ATLANTA          |\n",
      "|AURORA           |\n",
      "|AUSTIN           |\n",
      "|BAKERSFIELD      |\n",
      "|BALTIMORE        |\n",
      "|BATON ROUGE      |\n",
      "|BEAUMONT         |\n",
      "|BELLEVUE         |\n",
      "|BERKELEY         |\n",
      "|BIRMINGHAM       |\n",
      "|BOSTON           |\n",
      "|BRIDGEPORT       |\n",
      "|BROWNSVILLE      |\n",
      "|BUFFALO          |\n",
      "|BURBANK          |\n",
      "|CAMBRIDGE        |\n",
      "|CAPE CORAL       |\n",
      "|CARROLLTON       |\n",
      "|CARY             |\n",
      "|CEDAR RAPIDS     |\n",
      "|CHANDLER         |\n",
      "|CHARLESTON       |\n",
      "|CHARLOTTE        |\n",
      "|CHATTANOOGA      |\n",
      "|CHESAPEAKE       |\n",
      "|CHICAGO          |\n",
      "|CHULA VISTA      |\n",
      "|CINCINNATI       |\n",
      "|CLARKSVILLE      |\n",
      "|CLEARWATER       |\n",
      "|CLEVELAND        |\n",
      "|COLORADO SPRINGS |\n",
      "|COLUMBIA         |\n",
      "|COLUMBUS         |\n",
      "|CONCORD          |\n",
      "|CORAL SPRINGS    |\n",
      "|CORONA           |\n",
      "|CORPUS CHRISTI   |\n",
      "|COSTA MESA       |\n",
      "|DALLAS           |\n",
      "|DAYTON           |\n",
      "|DENTON           |\n",
      "|DENVER           |\n",
      "|DES MOINES       |\n",
      "|DETROIT          |\n",
      "|DOWNEY           |\n",
      "|DURHAM           |\n",
      "|EAST LOS ANGELES |\n",
      "|EDISON           |\n",
      "|EL MONTE         |\n",
      "|EL PASO          |\n",
      "|ELIZABETH        |\n",
      "|ESCONDIDO        |\n",
      "|EUGENE           |\n",
      "|EVANSVILLE       |\n",
      "|FAIRFIELD        |\n",
      "|FAYETTEVILLE     |\n",
      "|FLINT            |\n",
      "|FONTANA          |\n",
      "|FORT COLLINS     |\n",
      "|FORT LAUDERDALE  |\n",
      "|FORT WAYNE       |\n",
      "|FORT WORTH       |\n",
      "|FREMONT          |\n",
      "|FRESNO           |\n",
      "|FULLERTON        |\n",
      "|GAINESVILLE      |\n",
      "|GARDEN GROVE     |\n",
      "|GARLAND          |\n",
      "|GILBERT          |\n",
      "|GLENDALE         |\n",
      "|GRAND PRAIRIE    |\n",
      "|GRAND RAPIDS     |\n",
      "|GREEN BAY        |\n",
      "|GREENSBORO       |\n",
      "|HAMPTON          |\n",
      "|HARTFORD         |\n",
      "|HAYWARD          |\n",
      "|HENDERSON        |\n",
      "|HIALEAH          |\n",
      "|HIGHLANDS RANCH  |\n",
      "|HOLLYWOOD        |\n",
      "|HOUSTON          |\n",
      "|HUNTINGTON BEACH |\n",
      "|HUNTSVILLE       |\n",
      "|INDEPENDENCE     |\n",
      "|INDIANAPOLIS     |\n",
      "|INGLEWOOD        |\n",
      "|IRVINE           |\n",
      "|IRVING           |\n",
      "|JACKSON          |\n",
      "|JACKSONVILLE     |\n",
      "|JERSEY CITY      |\n",
      "|JOLIET           |\n",
      "|KANSAS CITY      |\n",
      "|KILLEEN          |\n",
      "|KNOXVILLE        |\n",
      "|LAFAYETTE        |\n",
      "|LAKEWOOD         |\n",
      "|LANCASTER        |\n",
      "|LANSING          |\n",
      "|LAREDO           |\n",
      "|LAS VEGAS        |\n",
      "|LEXINGTON FAYETTE|\n",
      "|LINCOLN          |\n",
      "|LITTLE ROCK      |\n",
      "|LONG BEACH       |\n",
      "|LOS ANGELES      |\n",
      "|LOUISVILLE       |\n",
      "|LOWELL           |\n",
      "|LUBBOCK          |\n",
      "|MADISON          |\n",
      "|MANCHESTER       |\n",
      "|MEMPHIS          |\n",
      "|MESA             |\n",
      "|MESQUITE         |\n",
      "|METAIRIE         |\n",
      "|MIAMI            |\n",
      "|MILWAUKEE        |\n",
      "|MINNEAPOLIS      |\n",
      "|MIRAMAR          |\n",
      "|MOBILE           |\n",
      "|MODESTO          |\n",
      "|MONTGOMERY       |\n",
      "|MORENO VALLEY    |\n",
      "|NAPERVILLE       |\n",
      "|NASHVILLE        |\n",
      "|NEW HAVEN        |\n",
      "|NEW ORLEANS      |\n",
      "|NEW YORK         |\n",
      "|NEWARK           |\n",
      "|NEWPORT NEWS     |\n",
      "|NOGALES          |\n",
      "|NORFOLK          |\n",
      "|NORMAN           |\n",
      "|NORTH LAS VEGAS  |\n",
      "|NORWALK          |\n",
      "|NUEVO LAREDO     |\n",
      "|OAKLAND          |\n",
      "|OCEANSIDE        |\n",
      "|OKLAHOMA CITY    |\n",
      "|OLATHE           |\n",
      "|OMAHA            |\n",
      "|ONTARIO          |\n",
      "|ORANGE           |\n",
      "|ORLANDO          |\n",
      "|OVERLAND PARK    |\n",
      "|OXNARD           |\n",
      "|PALMDALE         |\n",
      "|PARADISE         |\n",
      "|PASADENA         |\n",
      "|PATERSON         |\n",
      "|PEMBROKE PINES   |\n",
      "|PEORIA           |\n",
      "|PHILADELPHIA     |\n",
      "|PHOENIX          |\n",
      "|PITTSBURGH       |\n",
      "|PLANO            |\n",
      "|POMONA           |\n",
      "|PORT ST LUCIE    |\n",
      "|PORTLAND         |\n",
      "|PROVIDENCE       |\n",
      "|PROVO            |\n",
      "|PUEBLO           |\n",
      "|RALEIGH          |\n",
      "|RANCHO CUCAMONGA |\n",
      "|RENO             |\n",
      "|RIALTO           |\n",
      "|RICHARDSON       |\n",
      "|RICHMOND         |\n",
      "|RIVERSIDE        |\n",
      "|ROCHESTER        |\n",
      "|ROCKFORD         |\n",
      "|ROSEVILLE        |\n",
      "|SACRAMENTO       |\n",
      "|SALEM            |\n",
      "|SALINAS          |\n",
      "|SALT LAKE CITY   |\n",
      "|SAN ANTONIO      |\n",
      "|SAN BERNARDINO   |\n",
      "|SAN DIEGO        |\n",
      "|SAN FRANCISCO    |\n",
      "|SAN JOSE         |\n",
      "|SANTA ANA        |\n",
      "|SANTA CLARA      |\n",
      "|SANTA CLARITA    |\n",
      "|SANTA ROSA       |\n",
      "|SAVANNAH         |\n",
      "|SCOTTSDALE       |\n",
      "|SEATTLE          |\n",
      "|SHREVEPORT       |\n",
      "|SIMI VALLEY      |\n",
      "|SIOUX FALLS      |\n",
      "|SOUTH BEND       |\n",
      "|SPOKANE          |\n",
      "|SPRING VALLEY    |\n",
      "|SPRINGFIELD      |\n",
      "|ST LOUIS         |\n",
      "|ST PAUL          |\n",
      "|ST PETERSBURG    |\n",
      "|STAMFORD         |\n",
      "|STERLING HEIGHTS |\n",
      "|STOCKTON         |\n",
      "|SUNNYVALE        |\n",
      "|SUNRISE MANOR    |\n",
      "|SYRACUSE         |\n",
      "|TACOMA           |\n",
      "|TALLAHASSEE      |\n",
      "|TAMPA            |\n",
      "|TEMPE            |\n",
      "|THORNTON         |\n",
      "|THOUSAND OAKS    |\n",
      "|TOLEDO           |\n",
      "|TOMS RIVER       |\n",
      "|TOPEKA           |\n",
      "|TORRANCE         |\n",
      "|TUCSON           |\n",
      "|TULSA            |\n",
      "|VALLEJO          |\n",
      "|VANCOUVER        |\n",
      "|VIRGINIA BEACH   |\n",
      "|VISALIA          |\n",
      "|WACO             |\n",
      "|WARREN           |\n",
      "|WASHINGTON       |\n",
      "|WATERBURY        |\n",
      "|WEST COVINA      |\n",
      "|WEST JORDAN      |\n",
      "|WEST VALLEY CITY |\n",
      "|WESTMINSTER      |\n",
      "|WICHITA          |\n",
      "|WICHITA FALLS    |\n",
      "|WINDSOR          |\n",
      "|WINSTON SALEM    |\n",
      "|WORCESTER        |\n",
      "|YONKERS          |\n",
      "+-----------------+\n",
      "\n"
     ]
    }
   ],
   "source": [
    "df.select('city').orderBy('city').show(248, truncate=False)"
   ]
  }
 ],
 "metadata": {
  "kernelspec": {
   "display_name": "Python 3",
   "language": "python",
   "name": "python3"
  },
  "language_info": {
   "codemirror_mode": {
    "name": "ipython",
    "version": 3
   },
   "file_extension": ".py",
   "mimetype": "text/x-python",
   "name": "python",
   "nbconvert_exporter": "python",
   "pygments_lexer": "ipython3",
   "version": "3.7.7"
  }
 },
 "nbformat": 4,
 "nbformat_minor": 4
}
