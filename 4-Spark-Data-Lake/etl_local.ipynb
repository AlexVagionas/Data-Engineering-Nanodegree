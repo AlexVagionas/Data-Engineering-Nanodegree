{
 "cells": [
  {
   "cell_type": "code",
   "execution_count": 1,
   "metadata": {
    "editable": true
   },
   "outputs": [],
   "source": [
    "import configparser\n",
    "from datetime import datetime\n",
    "import os\n",
    "from pyspark.sql import SparkSession\n",
    "from pyspark.sql.functions import udf, col\n",
    "from pyspark.sql.functions import year, month, dayofmonth, hour, weekofyear, dayofweek, date_format\n",
    "from pyspark.sql.types import StructType as Struct, StructField as Fld, DoubleType as Double, StringType as Str, IntegerType as Int, LongType as Long"
   ]
  },
  {
   "cell_type": "code",
   "execution_count": 2,
   "metadata": {
    "editable": true
   },
   "outputs": [],
   "source": [
    "def create_spark_session():\n",
    "    spark = SparkSession \\\n",
    "        .builder \\\n",
    "        .config(\"spark.jars.packages\", \"org.apache.hadoop:hadoop-aws:2.7.0\") \\\n",
    "        .getOrCreate()\n",
    "    return spark\n",
    "spark = create_spark_session()"
   ]
  },
  {
   "cell_type": "code",
   "execution_count": 3,
   "metadata": {
    "editable": true
   },
   "outputs": [],
   "source": [
    "songs_schema = Struct([\n",
    "    Fld('num_songs', Int()),\n",
    "    Fld('artist_id', Str()),\n",
    "    Fld('artist_latitude', Double()),\n",
    "    Fld('artist_longtitude', Double()),\n",
    "    Fld('artist_location', Str()),\n",
    "    Fld('artist_name', Str()),\n",
    "    Fld('song_id', Str()),\n",
    "    Fld('title', Str()),\n",
    "    Fld('duration', Double()),\n",
    "    Fld('year', Int())\n",
    "])"
   ]
  },
  {
   "cell_type": "code",
   "execution_count": 4,
   "metadata": {
    "editable": true
   },
   "outputs": [],
   "source": [
    "df = spark.read.json('song_data/*/*/*/*.json', songs_schema)"
   ]
  },
  {
   "cell_type": "code",
   "execution_count": 5,
   "metadata": {
    "editable": true
   },
   "outputs": [],
   "source": [
    "songs_table = df[['song_id', 'title', 'artist_id', 'year', 'duration']].dropDuplicates(['song_id'])"
   ]
  },
  {
   "cell_type": "code",
   "execution_count": 6,
   "metadata": {
    "editable": true
   },
   "outputs": [],
   "source": [
    "songs_table.write.parquet(os.path.join('./', 'songs_table'), 'overwrite', partitionBy=['year', 'artist_id'])"
   ]
  },
  {
   "cell_type": "code",
   "execution_count": 7,
   "metadata": {
    "editable": true
   },
   "outputs": [
    {
     "name": "stdout",
     "output_type": "stream",
     "text": [
      "+------------------+--------------------+------------------+----+---------+\n",
      "|           song_id|               title|         artist_id|year| duration|\n",
      "+------------------+--------------------+------------------+----+---------+\n",
      "|SOGOSOV12AF72A285E|   ¿Dónde va Chichi?|ARGUVEV1187B98BA17|1997|313.12934|\n",
      "|SOMZWCG12A8C13C480|    I Didn't Mean To|ARD7TVE1187B99BFB1|   0|218.93179|\n",
      "|SOUPIRU12A6D4FA1E1| Der Kleine Dompfaff|ARJIE2Y1187B994AB7|   0|152.92036|\n",
      "|SOXVLOJ12AB0189215|     Amor De Cabaret|ARKRRTF1187B9984DA|   0|177.47546|\n",
      "|SOWTBJW12AC468AC6E|Broken-Down Merry...|ARQGYP71187FB44566|   0|151.84934|\n",
      "+------------------+--------------------+------------------+----+---------+\n",
      "only showing top 5 rows\n",
      "\n"
     ]
    }
   ],
   "source": [
    "songs_table.show(5)"
   ]
  },
  {
   "cell_type": "code",
   "execution_count": 10,
   "metadata": {
    "editable": true
   },
   "outputs": [],
   "source": [
    "artists_table = df[['artist_id', 'artist_name', 'artist_location',\n",
    "                      'artist_latitude', 'artist_longtitude']].dropDuplicates(['artist_id'])"
   ]
  },
  {
   "cell_type": "code",
   "execution_count": 11,
   "metadata": {
    "editable": true
   },
   "outputs": [],
   "source": [
    "artists_table.write.parquet(os.path.join('./', 'artist_table'), 'overwrite')"
   ]
  },
  {
   "cell_type": "code",
   "execution_count": 12,
   "metadata": {
    "editable": true
   },
   "outputs": [
    {
     "name": "stdout",
     "output_type": "stream",
     "text": [
      "+------------------+--------------------+--------------------+---------------+-----------------+\n",
      "|         artist_id|         artist_name|     artist_location|artist_latitude|artist_longtitude|\n",
      "+------------------+--------------------+--------------------+---------------+-----------------+\n",
      "|AR9AWNF1187B9AB0B4|Kenny G featuring...|Seattle, Washingt...|           null|             null|\n",
      "|AR0IAWL1187B9A96D0|        Danilo Perez|              Panama|         8.4177|             null|\n",
      "|AR0RCMP1187FB3F427|    Billie Jo Spears|        Beaumont, TX|       30.08615|             null|\n",
      "|AREDL271187FB40F44|        Soul Mekanik|                    |           null|             null|\n",
      "|ARI3BMM1187FB4255E|        Alice Stuart|          Washington|        38.8991|             null|\n",
      "+------------------+--------------------+--------------------+---------------+-----------------+\n",
      "only showing top 5 rows\n",
      "\n"
     ]
    }
   ],
   "source": [
    "artists_table.show(5)"
   ]
  },
  {
   "cell_type": "code",
   "execution_count": 13,
   "metadata": {
    "editable": true
   },
   "outputs": [],
   "source": [
    "df = spark.read.json('log_data/*.json')"
   ]
  },
  {
   "cell_type": "code",
   "execution_count": 14,
   "metadata": {
    "editable": true
   },
   "outputs": [],
   "source": [
    "df = df.filter(df.page == 'NextSong')\n",
    "df = df.withColumn('userId', df['userId'].cast('integer'))"
   ]
  },
  {
   "cell_type": "code",
   "execution_count": 15,
   "metadata": {
    "editable": true
   },
   "outputs": [],
   "source": [
    "users_table = df[['userId', 'firstName', 'lastName', 'gender', 'level']].dropDuplicates(['userId'])"
   ]
  },
  {
   "cell_type": "code",
   "execution_count": 16,
   "metadata": {
    "editable": true
   },
   "outputs": [],
   "source": [
    "users_table.write.parquet(os.path.join('./', 'users_table'), 'overwrite')"
   ]
  },
  {
   "cell_type": "code",
   "execution_count": 17,
   "metadata": {
    "editable": true
   },
   "outputs": [
    {
     "name": "stdout",
     "output_type": "stream",
     "text": [
      "+------+---------+--------+------+-----+\n",
      "|userId|firstName|lastName|gender|level|\n",
      "+------+---------+--------+------+-----+\n",
      "|    85|  Kinsley|   Young|     F| paid|\n",
      "|    65|    Amiya|Davidson|     F| paid|\n",
      "|    53|  Celeste|Williams|     F| free|\n",
      "|    78|    Chloe|    Roth|     F| free|\n",
      "|    34|   Evelin|   Ayala|     F| free|\n",
      "+------+---------+--------+------+-----+\n",
      "only showing top 5 rows\n",
      "\n"
     ]
    }
   ],
   "source": [
    "users_table.show(5)"
   ]
  },
  {
   "cell_type": "code",
   "execution_count": 18,
   "metadata": {
    "editable": true
   },
   "outputs": [],
   "source": [
    "get_timestamp = udf(lambda x: x / 1000, Double())"
   ]
  },
  {
   "cell_type": "code",
   "execution_count": 19,
   "metadata": {
    "editable": true
   },
   "outputs": [],
   "source": [
    "df = df.withColumn('startTime', get_timestamp(df.ts))"
   ]
  },
  {
   "cell_type": "code",
   "execution_count": 20,
   "metadata": {
    "editable": true
   },
   "outputs": [],
   "source": [
    "df = df.withColumn('datetime', df.startTime.cast('timestamp'))"
   ]
  },
  {
   "cell_type": "code",
   "execution_count": 21,
   "metadata": {
    "editable": true
   },
   "outputs": [],
   "source": [
    "time_table = df[df.startTime, \n",
    "                hour(df.datetime).alias('hour'), \n",
    "                dayofmonth(df.datetime).alias('day'),\n",
    "                weekofyear(df.datetime).alias('week'), \n",
    "                month(df.datetime).alias('month'), \n",
    "                year(df.datetime).alias('year'),\n",
    "                dayofweek(df.datetime).alias('weekday')]"
   ]
  },
  {
   "cell_type": "code",
   "execution_count": 22,
   "metadata": {
    "editable": true
   },
   "outputs": [],
   "source": [
    "time_table.write.parquet(os.path.join('./', 'time_table'), 'overwrite', partitionBy=['year', 'month'])"
   ]
  },
  {
   "cell_type": "code",
   "execution_count": 23,
   "metadata": {
    "editable": true
   },
   "outputs": [
    {
     "name": "stdout",
     "output_type": "stream",
     "text": [
      "+----------------+----+---+----+-----+----+-------+\n",
      "|       startTime|hour|day|week|month|year|weekday|\n",
      "+----------------+----+---+----+-----+----+-------+\n",
      "|1.542241826796E9|   0| 15|  46|   11|2018|      5|\n",
      "|1.542242481796E9|   0| 15|  46|   11|2018|      5|\n",
      "|1.542242741796E9|   0| 15|  46|   11|2018|      5|\n",
      "|1.542253449796E9|   3| 15|  46|   11|2018|      5|\n",
      "|1.542260935796E9|   5| 15|  46|   11|2018|      5|\n",
      "+----------------+----+---+----+-----+----+-------+\n",
      "only showing top 5 rows\n",
      "\n"
     ]
    }
   ],
   "source": [
    "time_table.show(5)"
   ]
  },
  {
   "cell_type": "code",
   "execution_count": 24,
   "metadata": {
    "editable": true
   },
   "outputs": [],
   "source": [
    "song_df = spark.read.json('song_data/*/*/*/*.json', songs_schema)"
   ]
  },
  {
   "cell_type": "code",
   "execution_count": 26,
   "metadata": {
    "editable": true
   },
   "outputs": [],
   "source": [
    "songplays_cols = ('datetime', 'userId', 'level', 'song_id', 'artist_id', 'sessionId', 'location', 'userAgent')\n",
    "conditions = [df.song == song_df.title, df.artist == song_df.artist_name, df.length == song_df.duration]"
   ]
  },
  {
   "cell_type": "code",
   "execution_count": 27,
   "metadata": {
    "editable": true
   },
   "outputs": [],
   "source": [
    "songplays_table = df.join(song_df, conditions).select(*songplays_cols)"
   ]
  },
  {
   "cell_type": "code",
   "execution_count": 29,
   "metadata": {
    "editable": true
   },
   "outputs": [],
   "source": [
    "songplays_table = songplays_table.withColumn('month', month(df.datetime))\n",
    "songplays_table = songplays_table.withColumn('year', year(df.datetime))"
   ]
  },
  {
   "cell_type": "code",
   "execution_count": 30,
   "metadata": {
    "editable": true
   },
   "outputs": [],
   "source": [
    "songplays_table.write.parquet(os.path.join('./', 'songplays_table'), 'overwrite', partitionBy=['year', 'month'])"
   ]
  },
  {
   "cell_type": "code",
   "execution_count": 34,
   "metadata": {
    "editable": true
   },
   "outputs": [
    {
     "name": "stdout",
     "output_type": "stream",
     "text": [
      "+--------------------+------+-----+------------------+------------------+\n",
      "|            datetime|userId|level|           song_id|         artist_id|\n",
      "+--------------------+------+-----+------------------+------------------+\n",
      "|2018-11-21 21:56:...|    15| paid|SOZCTXZ12AB0182364|AR5KOSW1187FB35FF4|\n",
      "+--------------------+------+-----+------------------+------------------+\n",
      "\n",
      "+---------+--------------------+--------------------+-----+----+\n",
      "|sessionId|            location|           userAgent|month|year|\n",
      "+---------+--------------------+--------------------+-----+----+\n",
      "|      818|Chicago-Napervill...|\"Mozilla/5.0 (X11...|   11|2018|\n",
      "+---------+--------------------+--------------------+-----+----+\n",
      "\n"
     ]
    }
   ],
   "source": [
    "songplays_table[songplays_table.columns[:5]].show(5)\n",
    "songplays_table[songplays_table.columns[5:]].show(5)"
   ]
  },
  {
   "cell_type": "code",
   "execution_count": null,
   "metadata": {
    "editable": true
   },
   "outputs": [],
   "source": []
  }
 ],
 "metadata": {
  "kernelspec": {
   "display_name": "Python 3",
   "language": "python",
   "name": "python3"
  },
  "language_info": {
   "codemirror_mode": {
    "name": "ipython",
    "version": 3
   },
   "file_extension": ".py",
   "mimetype": "text/x-python",
   "name": "python",
   "nbconvert_exporter": "python",
   "pygments_lexer": "ipython3",
   "version": "3.6.3"
  }
 },
 "nbformat": 4,
 "nbformat_minor": 4
}
